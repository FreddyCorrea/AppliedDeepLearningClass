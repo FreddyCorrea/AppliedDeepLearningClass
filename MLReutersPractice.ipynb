{
  "nbformat": 4,
  "nbformat_minor": 0,
  "metadata": {
    "colab": {
      "name": "MLReutersPractice.ipynb",
      "provenance": [],
      "collapsed_sections": [],
      "include_colab_link": true
    },
    "kernelspec": {
      "name": "python3",
      "display_name": "Python 3"
    }
  },
  "cells": [
    {
      "cell_type": "markdown",
      "metadata": {
        "id": "view-in-github",
        "colab_type": "text"
      },
      "source": [
        "<a href=\"https://colab.research.google.com/github/FreddyCorrea/AppliedDeepLearningClass/blob/master/MLReutersPractice.ipynb\" target=\"_parent\"><img src=\"https://colab.research.google.com/assets/colab-badge.svg\" alt=\"Open In Colab\"/></a>"
      ]
    },
    {
      "cell_type": "markdown",
      "metadata": {
        "id": "4S4mTdeB9EBk",
        "colab_type": "text"
      },
      "source": [
        "PRESENTADO POR\n",
        "\n",
        "Freddy Alexander Correa\n",
        "\n",
        "Codg 201823450\n",
        "\n"
      ]
    },
    {
      "cell_type": "markdown",
      "metadata": {
        "id": "vL_YoixBqFZ0",
        "colab_type": "text"
      },
      "source": [
        "# **The Reuters dataset**\n",
        "\n",
        "It is a set of short newswires and their topics, published by Reuters in 1986. There are 46 different topics; some topics are more represented than others, but each topic has at least 10 examples in the training set. \n",
        "\n",
        "The Reuters dataset comes packaged as part of Keras. The following code will load the dataset. "
      ]
    },
    {
      "cell_type": "code",
      "metadata": {
        "id": "LEQwcIua_3Fs",
        "colab_type": "code",
        "outputId": "632b8f74-7ef6-409a-d9ea-21366247f607",
        "colab": {
          "base_uri": "https://localhost:8080/",
          "height": 68
        }
      },
      "source": [
        "from keras.datasets import reuters\n",
        "(train_data, train_labels), (test_data, test_labels)=reuters.load_data(num_words=10000)"
      ],
      "execution_count": 0,
      "outputs": [
        {
          "output_type": "stream",
          "text": [
            "Using TensorFlow backend.\n"
          ],
          "name": "stderr"
        },
        {
          "output_type": "stream",
          "text": [
            "Downloading data from https://s3.amazonaws.com/text-datasets/reuters.npz\n",
            "2113536/2110848 [==============================] - 0s 0us/step\n"
          ],
          "name": "stdout"
        }
      ]
    },
    {
      "cell_type": "markdown",
      "metadata": {
        "id": "E451W7IwracX",
        "colab_type": "text"
      },
      "source": [
        "The argument ``num_words=10000`` means you'll only keep the top 10000 most frequently occurring words in the training data. Rare words will be discarted. \n",
        "\n",
        "The variables ``train_data`` and ``test_data`` are lists of newswires; each new is a list of word indices (encoding a sequence of words). \n",
        "You have 8982 training examples and 2246 test examples.\n",
        "\n",
        "\n",
        "\n"
      ]
    },
    {
      "cell_type": "code",
      "metadata": {
        "id": "tpNr8V4huCMQ",
        "colab_type": "code",
        "outputId": "9428ebfb-7219-4c51-e53e-16bd0624fdb5",
        "colab": {
          "base_uri": "https://localhost:8080/",
          "height": 34
        }
      },
      "source": [
        "len(train_data)"
      ],
      "execution_count": 0,
      "outputs": [
        {
          "output_type": "execute_result",
          "data": {
            "text/plain": [
              "8982"
            ]
          },
          "metadata": {
            "tags": []
          },
          "execution_count": 2
        }
      ]
    },
    {
      "cell_type": "code",
      "metadata": {
        "id": "pH4LRq07uLzc",
        "colab_type": "code",
        "outputId": "7e764092-9ab1-47f1-c808-4c1840490064",
        "colab": {
          "base_uri": "https://localhost:8080/",
          "height": 34
        }
      },
      "source": [
        " len(test_data)"
      ],
      "execution_count": 0,
      "outputs": [
        {
          "output_type": "execute_result",
          "data": {
            "text/plain": [
              "2246"
            ]
          },
          "metadata": {
            "tags": []
          },
          "execution_count": 3
        }
      ]
    },
    {
      "cell_type": "code",
      "metadata": {
        "id": "EF_1pQ-6uQ9a",
        "colab_type": "code",
        "colab": {}
      },
      "source": [
        "#Each example is a list of integers (word indices):\n",
        "# train_data[10]"
      ],
      "execution_count": 0,
      "outputs": []
    },
    {
      "cell_type": "markdown",
      "metadata": {
        "id": "-l3DYoXWuf1P",
        "colab_type": "text"
      },
      "source": [
        "Because you're restricting yourself to the top 10000 most frequent words, no word index will exceed 10000: "
      ]
    },
    {
      "cell_type": "code",
      "metadata": {
        "id": "8LOYZwilwSfV",
        "colab_type": "code",
        "outputId": "5bd2bced-2d0c-407e-8980-2fe58c87f8c1",
        "colab": {
          "base_uri": "https://localhost:8080/",
          "height": 34
        }
      },
      "source": [
        "max([max(i) for i in train_data])\n"
      ],
      "execution_count": 0,
      "outputs": [
        {
          "output_type": "execute_result",
          "data": {
            "text/plain": [
              "9999"
            ]
          },
          "metadata": {
            "tags": []
          },
          "execution_count": 4
        }
      ]
    },
    {
      "cell_type": "markdown",
      "metadata": {
        "id": "qbJtXXH2xEMg",
        "colab_type": "text"
      },
      "source": [
        "Here's how you can decode one of these news back to English words: "
      ]
    },
    {
      "cell_type": "code",
      "metadata": {
        "id": "AhHPKZCBxMaf",
        "colab_type": "code",
        "outputId": "9a162e6d-d2f4-4d9d-88da-65153e41f814",
        "colab": {
          "base_uri": "https://localhost:8080/",
          "height": 88
        }
      },
      "source": [
        "word_index = reuters.get_word_index() #word_index is a dictionary mapping words to an integer index\n",
        "reverse_word_index = dict([(value,key) for (key, value) in word_index.items()]) #reverses it, mapping integer indices to words\n",
        "decoded_newswire= ' '.join([reverse_word_index.get(i-3,'?') for i in train_data[10]]) #the indices are offset by 3 because 0, 1, and 2 are reserved indices for \"padding,\" \"start of sequence,\" and \"unknowns.\"\n",
        "print(decoded_newswire)"
      ],
      "execution_count": 0,
      "outputs": [
        {
          "output_type": "stream",
          "text": [
            "Downloading data from https://s3.amazonaws.com/text-datasets/reuters_word_index.json\n",
            "557056/550378 [==============================] - 0s 0us/step\n",
            "? period ended december 31 shr profit 11 cts vs loss 24 cts net profit 224 271 vs loss 511 349 revs 7 258 688 vs 7 200 349 reuter 3\n"
          ],
          "name": "stdout"
        }
      ]
    },
    {
      "cell_type": "markdown",
      "metadata": {
        "id": "HJbMRas60lYB",
        "colab_type": "text"
      },
      "source": [
        "The label associated with an example is an integer between 0 and 45 - a topic index:"
      ]
    },
    {
      "cell_type": "code",
      "metadata": {
        "id": "XPEKVKoV0cJG",
        "colab_type": "code",
        "outputId": "90db2ad7-f9ac-4f1b-95ef-b50df3da8385",
        "colab": {
          "base_uri": "https://localhost:8080/",
          "height": 34
        }
      },
      "source": [
        "train_labels[150]"
      ],
      "execution_count": 0,
      "outputs": [
        {
          "output_type": "execute_result",
          "data": {
            "text/plain": [
              "7"
            ]
          },
          "metadata": {
            "tags": []
          },
          "execution_count": 6
        }
      ]
    },
    {
      "cell_type": "markdown",
      "metadata": {
        "id": "FKGEk5nb03LI",
        "colab_type": "text"
      },
      "source": [
        "# **Preparing the data**\n",
        "\n",
        "You have to turn your lists into tensors. There are two ways to do that: \n",
        "\n",
        "\n",
        "1. Pad your lists so that they all have the same length, turn them into an integer tensor of shape `(samples, word_indices)`, and then use as the first layer in your network a layer capable of handling such integer tensors.\n",
        "2.   One-hot encode your lists to turn them into vectors of 0s and 1s. This would mean, for instance, turning the sequence [3, 5] into a 10000-dimensional vector that would be all 0s except for indices 3 and 5, which would be 1s. Then you could use as the first layer in your network a Dense layer, capable of handling floating-point vector data.\n",
        "\n",
        "Let’s go with the latter solution to vectorize the data, which you’ll do manually for maximum clarity.\n",
        "\n"
      ]
    },
    {
      "cell_type": "code",
      "metadata": {
        "id": "y2-53vlg2i36",
        "colab_type": "code",
        "colab": {}
      },
      "source": [
        "#Encoding the integer sequences into a binary matrix \n",
        "import numpy as np\n",
        "\n",
        "def vectorize_sequences(sequences, dimension=10000):   #Creates an all-zero matrix of shape (len(sequences), dimension)\n",
        "    results = np.zeros((len(sequences), dimension))\n",
        "    for i, sequence in enumerate(sequences):\n",
        "        results[i, sequence] = 1.                          #Sets specific indices of results[i] to 1s\n",
        "    return results\n",
        "\n",
        "x_train = vectorize_sequences(train_data)   #Vectorized training data\n",
        "x_test = vectorize_sequences(test_data)     #Vectorized test data"
      ],
      "execution_count": 0,
      "outputs": []
    },
    {
      "cell_type": "markdown",
      "metadata": {
        "id": "p3Dyjsi56Neh",
        "colab_type": "text"
      },
      "source": [
        "Here’s what the samples look like now:\n"
      ]
    },
    {
      "cell_type": "code",
      "metadata": {
        "id": "1-RdgQ9q6S4n",
        "colab_type": "code",
        "outputId": "2216a207-6d98-470b-f3ac-12b460a51e53",
        "colab": {
          "base_uri": "https://localhost:8080/",
          "height": 34
        }
      },
      "source": [
        "x_train[0]"
      ],
      "execution_count": 0,
      "outputs": [
        {
          "output_type": "execute_result",
          "data": {
            "text/plain": [
              "array([0., 1., 1., ..., 0., 0., 0.])"
            ]
          },
          "metadata": {
            "tags": []
          },
          "execution_count": 8
        }
      ]
    },
    {
      "cell_type": "markdown",
      "metadata": {
        "id": "PnNmT6lX6ajK",
        "colab_type": "text"
      },
      "source": [
        "To vectorize the labels, there are two possibilities: you can cast the label list as an integer tensor, or you can use one-hot encoding. One-hot encoding is a widely used format for categorical data, also called categorical encoding. In this case, one-hot encoding of the labels consists of embedding each label as an all-zero vector with a 1 in the place of the label index. Here’s an example:"
      ]
    },
    {
      "cell_type": "code",
      "metadata": {
        "id": "4PEGntO66XRw",
        "colab_type": "code",
        "colab": {}
      },
      "source": [
        "def to_one_hot(labels, dimension=10000):\n",
        "  results = np.zeros((len(labels), dimension))\n",
        "  for i, label in enumerate(labels):\n",
        "    results[i, label] = 1.\n",
        "  return results\n",
        "\n",
        "one_hot_train_labels = to_one_hot(train_labels) #Vectorized training labels\n",
        "one_hot_test_labels = to_one_hot(test_labels)   #Vectorized test labels"
      ],
      "execution_count": 0,
      "outputs": []
    },
    {
      "cell_type": "markdown",
      "metadata": {
        "id": "CNqITnbV6lu4",
        "colab_type": "text"
      },
      "source": [
        "There is a *built-in way* to do this in Keras:"
      ]
    },
    {
      "cell_type": "code",
      "metadata": {
        "id": "E7jLLuNk7iIa",
        "colab_type": "code",
        "colab": {}
      },
      "source": [
        "from keras.utils.np_utils import to_categorical\n",
        "\n",
        "one_hot_train_labels = to_categorical(train_labels)\n",
        "one_hot_test_labels = to_categorical(test_labels)"
      ],
      "execution_count": 0,
      "outputs": []
    },
    {
      "cell_type": "markdown",
      "metadata": {
        "id": "QNJUzsA9753o",
        "colab_type": "text"
      },
      "source": [
        "# **Building your network**\n",
        "\n",
        "\n",
        "\n"
      ]
    },
    {
      "cell_type": "markdown",
      "metadata": {
        "id": "7f3s7tKiGNu7",
        "colab_type": "text"
      },
      "source": [
        "# **MLP With Different Loss Functions**"
      ]
    },
    {
      "cell_type": "markdown",
      "metadata": {
        "id": "8txUAShwGTUk",
        "colab_type": "text"
      },
      "source": [
        "# **Sigmoid Activation and MSE Loss**"
      ]
    },
    {
      "cell_type": "code",
      "metadata": {
        "id": "2MK5iYlnGX5w",
        "colab_type": "code",
        "outputId": "6aa93563-1327-4c3c-dbda-098197f0fc5e",
        "colab": {
          "base_uri": "https://localhost:8080/",
          "height": 173
        }
      },
      "source": [
        "from keras import models\n",
        "from keras import layers\n",
        "\n",
        "model = models.Sequential()\n",
        "act = []\n",
        "model.add(layers.Dense(46, activation='sigmoid', input_shape=(10000,)))\n",
        "#\n",
        "model.compile(optimizer='sgd', loss='mse', metrics=['accuracy'])"
      ],
      "execution_count": 0,
      "outputs": [
        {
          "output_type": "stream",
          "text": [
            "WARNING:tensorflow:From /usr/local/lib/python3.6/dist-packages/keras/backend/tensorflow_backend.py:66: The name tf.get_default_graph is deprecated. Please use tf.compat.v1.get_default_graph instead.\n",
            "\n",
            "WARNING:tensorflow:From /usr/local/lib/python3.6/dist-packages/keras/backend/tensorflow_backend.py:541: The name tf.placeholder is deprecated. Please use tf.compat.v1.placeholder instead.\n",
            "\n",
            "WARNING:tensorflow:From /usr/local/lib/python3.6/dist-packages/keras/backend/tensorflow_backend.py:4432: The name tf.random_uniform is deprecated. Please use tf.random.uniform instead.\n",
            "\n",
            "WARNING:tensorflow:From /usr/local/lib/python3.6/dist-packages/keras/optimizers.py:793: The name tf.train.Optimizer is deprecated. Please use tf.compat.v1.train.Optimizer instead.\n",
            "\n"
          ],
          "name": "stdout"
        }
      ]
    },
    {
      "cell_type": "markdown",
      "metadata": {
        "id": "ApselmACDnwG",
        "colab_type": "text"
      },
      "source": [
        "# **Validating your approach**\n",
        "\n",
        "Let’s set apart 1000 samples in the training data to use as a validation set."
      ]
    },
    {
      "cell_type": "code",
      "metadata": {
        "id": "wGSeQuIFHuFO",
        "colab_type": "code",
        "colab": {}
      },
      "source": [
        "# Setting aside a validation set\n",
        "\n",
        "x_val = x_train[:1000]\n",
        "partial_x_train = x_train[1000:]\n",
        "\n",
        "y_val = one_hot_train_labels[:1000]\n",
        "partial_y_train = one_hot_train_labels[1000:]"
      ],
      "execution_count": 0,
      "outputs": []
    },
    {
      "cell_type": "markdown",
      "metadata": {
        "id": "fA8OwlT0E1UG",
        "colab_type": "text"
      },
      "source": [
        "The call to `model.fit()` returns a `History` object. This object has a member\n",
        "history, which is a dictionary containing data about everything that happened\n",
        "during training. Let’s look at it:\n",
        "\n"
      ]
    },
    {
      "cell_type": "code",
      "metadata": {
        "id": "PX51y4yLIFmi",
        "colab_type": "code",
        "outputId": "af339974-8e2a-4c30-bfd4-43b755986452",
        "colab": {
          "base_uri": "https://localhost:8080/",
          "height": 1000
        }
      },
      "source": [
        "history = model.fit(partial_x_train,\n",
        "                    partial_y_train,\n",
        "                    epochs=20,\n",
        "                    batch_size=512,\n",
        "                    validation_data=(x_val, y_val))"
      ],
      "execution_count": 0,
      "outputs": [
        {
          "output_type": "stream",
          "text": [
            "WARNING:tensorflow:From /usr/local/lib/python3.6/dist-packages/keras/backend/tensorflow_backend.py:1033: The name tf.assign_add is deprecated. Please use tf.compat.v1.assign_add instead.\n",
            "\n",
            "WARNING:tensorflow:From /usr/local/lib/python3.6/dist-packages/keras/backend/tensorflow_backend.py:1020: The name tf.assign is deprecated. Please use tf.compat.v1.assign instead.\n",
            "\n",
            "WARNING:tensorflow:From /usr/local/lib/python3.6/dist-packages/keras/backend/tensorflow_backend.py:3005: The name tf.Session is deprecated. Please use tf.compat.v1.Session instead.\n",
            "\n",
            "Train on 7982 samples, validate on 1000 samples\n",
            "Epoch 1/20\n",
            "WARNING:tensorflow:From /usr/local/lib/python3.6/dist-packages/keras/backend/tensorflow_backend.py:190: The name tf.get_default_session is deprecated. Please use tf.compat.v1.get_default_session instead.\n",
            "\n",
            "WARNING:tensorflow:From /usr/local/lib/python3.6/dist-packages/keras/backend/tensorflow_backend.py:197: The name tf.ConfigProto is deprecated. Please use tf.compat.v1.ConfigProto instead.\n",
            "\n",
            "WARNING:tensorflow:From /usr/local/lib/python3.6/dist-packages/keras/backend/tensorflow_backend.py:207: The name tf.global_variables is deprecated. Please use tf.compat.v1.global_variables instead.\n",
            "\n",
            "WARNING:tensorflow:From /usr/local/lib/python3.6/dist-packages/keras/backend/tensorflow_backend.py:216: The name tf.is_variable_initialized is deprecated. Please use tf.compat.v1.is_variable_initialized instead.\n",
            "\n",
            "WARNING:tensorflow:From /usr/local/lib/python3.6/dist-packages/keras/backend/tensorflow_backend.py:223: The name tf.variables_initializer is deprecated. Please use tf.compat.v1.variables_initializer instead.\n",
            "\n",
            "7982/7982 [==============================] - 2s 213us/step - loss: 0.2525 - acc: 0.0541 - val_loss: 0.2510 - val_acc: 0.0470\n",
            "Epoch 2/20\n",
            "7982/7982 [==============================] - 1s 138us/step - loss: 0.2495 - acc: 0.0610 - val_loss: 0.2481 - val_acc: 0.0540\n",
            "Epoch 3/20\n",
            "7982/7982 [==============================] - 1s 139us/step - loss: 0.2466 - acc: 0.0685 - val_loss: 0.2452 - val_acc: 0.0690\n",
            "Epoch 4/20\n",
            "7982/7982 [==============================] - 1s 138us/step - loss: 0.2437 - acc: 0.0762 - val_loss: 0.2423 - val_acc: 0.0800\n",
            "Epoch 5/20\n",
            "7982/7982 [==============================] - 1s 139us/step - loss: 0.2408 - acc: 0.0871 - val_loss: 0.2395 - val_acc: 0.0910\n",
            "Epoch 6/20\n",
            "7982/7982 [==============================] - 1s 142us/step - loss: 0.2381 - acc: 0.0978 - val_loss: 0.2367 - val_acc: 0.0970\n",
            "Epoch 7/20\n",
            "7982/7982 [==============================] - 1s 142us/step - loss: 0.2353 - acc: 0.1072 - val_loss: 0.2340 - val_acc: 0.1080\n",
            "Epoch 8/20\n",
            "7982/7982 [==============================] - 1s 141us/step - loss: 0.2326 - acc: 0.1181 - val_loss: 0.2313 - val_acc: 0.1170\n",
            "Epoch 9/20\n",
            "7982/7982 [==============================] - 1s 142us/step - loss: 0.2299 - acc: 0.1274 - val_loss: 0.2286 - val_acc: 0.1250\n",
            "Epoch 10/20\n",
            "7982/7982 [==============================] - 1s 145us/step - loss: 0.2273 - acc: 0.1404 - val_loss: 0.2260 - val_acc: 0.1340\n",
            "Epoch 11/20\n",
            "7982/7982 [==============================] - 1s 145us/step - loss: 0.2247 - acc: 0.1537 - val_loss: 0.2234 - val_acc: 0.1410\n",
            "Epoch 12/20\n",
            "7982/7982 [==============================] - 1s 137us/step - loss: 0.2221 - acc: 0.1662 - val_loss: 0.2209 - val_acc: 0.1580\n",
            "Epoch 13/20\n",
            "7982/7982 [==============================] - 1s 139us/step - loss: 0.2196 - acc: 0.1809 - val_loss: 0.2184 - val_acc: 0.1750\n",
            "Epoch 14/20\n",
            "7982/7982 [==============================] - 1s 138us/step - loss: 0.2172 - acc: 0.1924 - val_loss: 0.2160 - val_acc: 0.1940\n",
            "Epoch 15/20\n",
            "7982/7982 [==============================] - 1s 140us/step - loss: 0.2147 - acc: 0.2045 - val_loss: 0.2136 - val_acc: 0.2100\n",
            "Epoch 16/20\n",
            "7982/7982 [==============================] - 1s 139us/step - loss: 0.2123 - acc: 0.2164 - val_loss: 0.2112 - val_acc: 0.2200\n",
            "Epoch 17/20\n",
            "7982/7982 [==============================] - 1s 141us/step - loss: 0.2100 - acc: 0.2280 - val_loss: 0.2089 - val_acc: 0.2320\n",
            "Epoch 18/20\n",
            "7982/7982 [==============================] - 1s 138us/step - loss: 0.2077 - acc: 0.2393 - val_loss: 0.2066 - val_acc: 0.2460\n",
            "Epoch 19/20\n",
            "7982/7982 [==============================] - 1s 137us/step - loss: 0.2054 - acc: 0.2492 - val_loss: 0.2043 - val_acc: 0.2600\n",
            "Epoch 20/20\n",
            "7982/7982 [==============================] - 1s 140us/step - loss: 0.2032 - acc: 0.2597 - val_loss: 0.2021 - val_acc: 0.2680\n"
          ],
          "name": "stdout"
        }
      ]
    },
    {
      "cell_type": "markdown",
      "metadata": {
        "id": "dNFWHh-vFjdy",
        "colab_type": "text"
      },
      "source": [
        "The dictionary contains four entries: one per metric that was being monitored during training and during validation. In the following two listing, let’s use Matplotlib to plot the training and validation loss side by side, as well as the training and validation accuracy. Note that your own results may vary slightly due to a different random initialization of your network."
      ]
    },
    {
      "cell_type": "code",
      "metadata": {
        "id": "RjmZNAZ9IJhY",
        "colab_type": "code",
        "outputId": "3dd7410c-dc76-4d0c-e807-bfeee41b48b2",
        "colab": {
          "base_uri": "https://localhost:8080/",
          "height": 573
        }
      },
      "source": [
        "import matplotlib.pyplot as plt\n",
        "\n",
        "loss = history.history['loss']\n",
        "val_loss = history.history['val_loss']\n",
        "\n",
        "epochs = range(1, len(loss) + 1)\n",
        "\n",
        "plt.plot(epochs, loss, 'bo', label='Training loss')  #“bo” is for “blue dot.”\n",
        "plt.plot(epochs, val_loss, 'b', label='Validation loss')  #“b” is for “solid blue line.”\n",
        "plt.title('Training and validation loss')\n",
        "plt.xlabel('Epochs')\n",
        "plt.ylabel('Loss')\n",
        "plt.legend()\n",
        "plt.show()\n",
        "\n",
        "plt.clf()\n",
        "acc = history.history['acc']\n",
        "val_acc = history.history['val_acc']\n",
        "plt.plot(epochs, acc, 'bo', label='Training acc')\n",
        "plt.plot(epochs, val_acc, 'b', label='Validation acc')\n",
        "plt.title('Training and validation accuracy')\n",
        "plt.xlabel('Epochs')\n",
        "plt.ylabel('Loss')\n",
        "plt.legend()\n",
        "plt.show()"
      ],
      "execution_count": 0,
      "outputs": [
        {
          "output_type": "display_data",
          "data": {
            "image/png": "[encoded data removed]",
            "text/plain": [
              "<Figure size 432x288 with 1 Axes>"
            ]
          },
          "metadata": {
            "tags": []
          }
        },
        {
          "output_type": "display_data",
          "data": {
            "image/png": "[encoded data removed]",
            "text/plain": [
              "<Figure size 432x288 with 1 Axes>"
            ]
          },
          "metadata": {
            "tags": []
          }
        }
      ]
    },
    {
      "cell_type": "markdown",
      "metadata": {
        "id": "vCsPF_-ioJFY",
        "colab_type": "text"
      },
      "source": [
        "# Generating predictions on new data\n",
        "\n",
        "You can verify that the predict method of the model instance returns a probability distribution over all 46 topics. Let’s generate topic predictions for all of the test data."
      ]
    },
    {
      "cell_type": "code",
      "metadata": {
        "id": "KB-cV8ZpoPcK",
        "colab_type": "code",
        "outputId": "7c49e9ba-5433-4843-d198-d27ae8326c44",
        "colab": {
          "base_uri": "https://localhost:8080/",
          "height": 34
        }
      },
      "source": [
        "predictions = model.predict(x_test)\n",
        "predictions[0].shape"
      ],
      "execution_count": 0,
      "outputs": [
        {
          "output_type": "execute_result",
          "data": {
            "text/plain": [
              "(46,)"
            ]
          },
          "metadata": {
            "tags": []
          },
          "execution_count": 16
        }
      ]
    },
    {
      "cell_type": "code",
      "metadata": {
        "id": "DNXNeqxZokhZ",
        "colab_type": "code",
        "outputId": "6f4d1445-4911-4605-e182-698e3023d6c7",
        "colab": {
          "base_uri": "https://localhost:8080/",
          "height": 34
        }
      },
      "source": [
        "np.sum(predictions[0])"
      ],
      "execution_count": 0,
      "outputs": [
        {
          "output_type": "execute_result",
          "data": {
            "text/plain": [
              "19.74806"
            ]
          },
          "metadata": {
            "tags": []
          },
          "execution_count": 17
        }
      ]
    },
    {
      "cell_type": "code",
      "metadata": {
        "id": "VTsVfartoksc",
        "colab_type": "code",
        "outputId": "ededb81c-7529-487f-aaef-40c77371df69",
        "colab": {
          "base_uri": "https://localhost:8080/",
          "height": 34
        }
      },
      "source": [
        "np.argmax(predictions[0])"
      ],
      "execution_count": 0,
      "outputs": [
        {
          "output_type": "execute_result",
          "data": {
            "text/plain": [
              "3"
            ]
          },
          "metadata": {
            "tags": []
          },
          "execution_count": 18
        }
      ]
    },
    {
      "cell_type": "markdown",
      "metadata": {
        "id": "fz5sl0ryAkG2",
        "colab_type": "text"
      },
      "source": [
        "# **Sigmoid Activation with Categorical Cross Entropy Loss**"
      ]
    },
    {
      "cell_type": "code",
      "metadata": {
        "id": "hZ9momG2CWfc",
        "colab_type": "code",
        "outputId": "9046a563-f67d-4810-8528-5bec6c43d62d",
        "colab": {
          "base_uri": "https://localhost:8080/",
          "height": 819
        }
      },
      "source": [
        "from keras import models\n",
        "from keras import layers\n",
        "\n",
        "\n",
        "model = models.Sequential()\n",
        "model.add(layers.Dense(46, activation='sigmoid', input_shape=(10000,)))\n",
        "\n",
        "model.compile( optimizer='sgd', loss ='categorical_crossentropy' , metrics=['accuracy'])\n",
        "\n",
        "history=model.fit(partial_x_train,\n",
        "                  partial_y_train,\n",
        "                  epochs=20,\n",
        "                  batch_size=512,\n",
        "                  validation_data=(x_val, y_val))"
      ],
      "execution_count": 0,
      "outputs": [
        {
          "output_type": "stream",
          "text": [
            "WARNING:tensorflow:From /usr/local/lib/python3.6/dist-packages/keras/backend/tensorflow_backend.py:3576: The name tf.log is deprecated. Please use tf.math.log instead.\n",
            "\n",
            "WARNING:tensorflow:From /usr/local/lib/python3.6/dist-packages/tensorflow_core/python/ops/math_grad.py:1424: where (from tensorflow.python.ops.array_ops) is deprecated and will be removed in a future version.\n",
            "Instructions for updating:\n",
            "Use tf.where in 2.0, which has the same broadcast rule as np.where\n",
            "Train on 7982 samples, validate on 1000 samples\n",
            "Epoch 1/20\n",
            "7982/7982 [==============================] - 1s 148us/step - loss: 3.7990 - acc: 0.0996 - val_loss: 3.7542 - val_acc: 0.3210\n",
            "Epoch 2/20\n",
            "7982/7982 [==============================] - 1s 124us/step - loss: 3.7239 - acc: 0.4084 - val_loss: 3.6898 - val_acc: 0.4760\n",
            "Epoch 3/20\n",
            "7982/7982 [==============================] - 1s 126us/step - loss: 3.6672 - acc: 0.4691 - val_loss: 3.6405 - val_acc: 0.4890\n",
            "Epoch 4/20\n",
            "7982/7982 [==============================] - 1s 128us/step - loss: 3.6230 - acc: 0.4806 - val_loss: 3.6015 - val_acc: 0.4990\n",
            "Epoch 5/20\n",
            "7982/7982 [==============================] - 1s 127us/step - loss: 3.5874 - acc: 0.4873 - val_loss: 3.5695 - val_acc: 0.5030\n",
            "Epoch 6/20\n",
            "7982/7982 [==============================] - 1s 127us/step - loss: 3.5578 - acc: 0.4924 - val_loss: 3.5426 - val_acc: 0.5080\n",
            "Epoch 7/20\n",
            "7982/7982 [==============================] - 1s 127us/step - loss: 3.5325 - acc: 0.4964 - val_loss: 3.5193 - val_acc: 0.5130\n",
            "Epoch 8/20\n",
            "7982/7982 [==============================] - 1s 126us/step - loss: 3.5104 - acc: 0.4981 - val_loss: 3.4987 - val_acc: 0.5140\n",
            "Epoch 9/20\n",
            "7982/7982 [==============================] - 1s 132us/step - loss: 3.4907 - acc: 0.5006 - val_loss: 3.4803 - val_acc: 0.5150\n",
            "Epoch 10/20\n",
            "7982/7982 [==============================] - 1s 132us/step - loss: 3.4729 - acc: 0.5024 - val_loss: 3.4635 - val_acc: 0.5160\n",
            "Epoch 11/20\n",
            "7982/7982 [==============================] - 1s 131us/step - loss: 3.4565 - acc: 0.5044 - val_loss: 3.4480 - val_acc: 0.5160\n",
            "Epoch 12/20\n",
            "7982/7982 [==============================] - 1s 130us/step - loss: 3.4414 - acc: 0.5050 - val_loss: 3.4336 - val_acc: 0.5160\n",
            "Epoch 13/20\n",
            "7982/7982 [==============================] - 1s 132us/step - loss: 3.4272 - acc: 0.5054 - val_loss: 3.4200 - val_acc: 0.5160\n",
            "Epoch 14/20\n",
            "7982/7982 [==============================] - 1s 132us/step - loss: 3.4137 - acc: 0.5065 - val_loss: 3.4070 - val_acc: 0.5180\n",
            "Epoch 15/20\n",
            "7982/7982 [==============================] - 1s 132us/step - loss: 3.4009 - acc: 0.5074 - val_loss: 3.3947 - val_acc: 0.5200\n",
            "Epoch 16/20\n",
            "7982/7982 [==============================] - 1s 133us/step - loss: 3.3887 - acc: 0.5075 - val_loss: 3.3829 - val_acc: 0.5200\n",
            "Epoch 17/20\n",
            "7982/7982 [==============================] - 1s 132us/step - loss: 3.3769 - acc: 0.5085 - val_loss: 3.3715 - val_acc: 0.5200\n",
            "Epoch 18/20\n",
            "7982/7982 [==============================] - 1s 133us/step - loss: 3.3655 - acc: 0.5089 - val_loss: 3.3604 - val_acc: 0.5200\n",
            "Epoch 19/20\n",
            "7982/7982 [==============================] - 1s 130us/step - loss: 3.3545 - acc: 0.5094 - val_loss: 3.3497 - val_acc: 0.5220\n",
            "Epoch 20/20\n",
            "7982/7982 [==============================] - 1s 131us/step - loss: 3.3437 - acc: 0.5101 - val_loss: 3.3392 - val_acc: 0.5220\n"
          ],
          "name": "stdout"
        }
      ]
    },
    {
      "cell_type": "code",
      "metadata": {
        "id": "WxZY11C-Iqg5",
        "colab_type": "code",
        "outputId": "29b9ef42-98e8-4f9c-d14d-bbc88d7591d8",
        "colab": {
          "base_uri": "https://localhost:8080/",
          "height": 573
        }
      },
      "source": [
        "import matplotlib.pyplot as plt\n",
        "\n",
        "loss = history.history['loss']\n",
        "val_loss = history.history['val_loss']\n",
        "\n",
        "epochs = range(1, len(loss) + 1)\n",
        "\n",
        "plt.plot(epochs, loss, 'bo', label='Training loss')  #“bo” is for “blue dot.”\n",
        "plt.plot(epochs, val_loss, 'b', label='Validation loss')  #“b” is for “solid blue line.”\n",
        "plt.title('Training and validation loss')\n",
        "plt.xlabel('Epochs')\n",
        "plt.ylabel('Loss')\n",
        "plt.legend()\n",
        "plt.show()\n",
        "\n",
        "plt.clf()\n",
        "acc = history.history['acc']\n",
        "val_acc = history.history['val_acc']\n",
        "plt.plot(epochs, acc, 'bo', label='Training acc')\n",
        "plt.plot(epochs, val_acc, 'b', label='Validation acc')\n",
        "plt.title('Training and validation accuracy')\n",
        "plt.xlabel('Epochs')\n",
        "plt.ylabel('Loss')\n",
        "plt.legend()\n",
        "plt.show()"
      ],
      "execution_count": 0,
      "outputs": [
        {
          "output_type": "display_data",
          "data": {
            "image/png": "[encoded data removed]",
            "text/plain": [
              "<Figure size 432x288 with 1 Axes>"
            ]
          },
          "metadata": {
            "tags": []
          }
        },
        {
          "output_type": "display_data",
          "data": {
            "image/png": "[encoded data removed]",
            "text/plain": [
              "<Figure size 432x288 with 1 Axes>"
            ]
          },
          "metadata": {
            "tags": []
          }
        }
      ]
    },
    {
      "cell_type": "markdown",
      "metadata": {
        "id": "x4x39wEiAXGq",
        "colab_type": "text"
      },
      "source": [
        "# **Softmax Activation with Categorical Cross Entropy Loss**\n"
      ]
    },
    {
      "cell_type": "code",
      "metadata": {
        "id": "hd4mFKHaAj5q",
        "colab_type": "code",
        "outputId": "1f311cc6-005c-464b-aced-87c63af21416",
        "colab": {
          "base_uri": "https://localhost:8080/",
          "height": 734
        }
      },
      "source": [
        "from keras import models\n",
        "from keras import layers\n",
        "\n",
        "\n",
        "model = models.Sequential()\n",
        "model.add(layers.Dense(46, activation='softmax', input_shape=(10000,)))\n",
        "\n",
        "model.compile( optimizer='sgd', loss ='categorical_crossentropy' , metrics=['accuracy'])\n",
        "\n",
        "history=model.fit(partial_x_train,\n",
        "                  partial_y_train,\n",
        "                  epochs=20,\n",
        "                  batch_size=512,\n",
        "                  validation_data=(x_val, y_val))"
      ],
      "execution_count": 0,
      "outputs": [
        {
          "output_type": "stream",
          "text": [
            "Train on 7982 samples, validate on 1000 samples\n",
            "Epoch 1/20\n",
            "7982/7982 [==============================] - 1s 148us/step - loss: 3.7071 - acc: 0.2422 - val_loss: 3.5138 - val_acc: 0.4430\n",
            "Epoch 2/20\n",
            "7982/7982 [==============================] - 1s 130us/step - loss: 3.3615 - acc: 0.4676 - val_loss: 3.1924 - val_acc: 0.4900\n",
            "Epoch 3/20\n",
            "7982/7982 [==============================] - 1s 131us/step - loss: 3.0697 - acc: 0.4911 - val_loss: 2.9310 - val_acc: 0.5030\n",
            "Epoch 4/20\n",
            "7982/7982 [==============================] - 1s 132us/step - loss: 2.8381 - acc: 0.5030 - val_loss: 2.7311 - val_acc: 0.5080\n",
            "Epoch 5/20\n",
            "7982/7982 [==============================] - 1s 130us/step - loss: 2.6624 - acc: 0.5098 - val_loss: 2.5807 - val_acc: 0.5110\n",
            "Epoch 6/20\n",
            "7982/7982 [==============================] - 1s 133us/step - loss: 2.5289 - acc: 0.5147 - val_loss: 2.4654 - val_acc: 0.5160\n",
            "Epoch 7/20\n",
            "7982/7982 [==============================] - 1s 131us/step - loss: 2.4248 - acc: 0.5174 - val_loss: 2.3747 - val_acc: 0.5230\n",
            "Epoch 8/20\n",
            "7982/7982 [==============================] - 1s 132us/step - loss: 2.3410 - acc: 0.5193 - val_loss: 2.3006 - val_acc: 0.5210\n",
            "Epoch 9/20\n",
            "7982/7982 [==============================] - 1s 130us/step - loss: 2.2714 - acc: 0.5205 - val_loss: 2.2388 - val_acc: 0.5210\n",
            "Epoch 10/20\n",
            "7982/7982 [==============================] - 1s 131us/step - loss: 2.2123 - acc: 0.5204 - val_loss: 2.1858 - val_acc: 0.5210\n",
            "Epoch 11/20\n",
            "7982/7982 [==============================] - 1s 129us/step - loss: 2.1611 - acc: 0.5215 - val_loss: 2.1399 - val_acc: 0.5210\n",
            "Epoch 12/20\n",
            "7982/7982 [==============================] - 1s 129us/step - loss: 2.1163 - acc: 0.5228 - val_loss: 2.0997 - val_acc: 0.5230\n",
            "Epoch 13/20\n",
            "7982/7982 [==============================] - 1s 130us/step - loss: 2.0767 - acc: 0.5238 - val_loss: 2.0641 - val_acc: 0.5230\n",
            "Epoch 14/20\n",
            "7982/7982 [==============================] - 1s 131us/step - loss: 2.0414 - acc: 0.5263 - val_loss: 2.0324 - val_acc: 0.5240\n",
            "Epoch 15/20\n",
            "7982/7982 [==============================] - 1s 131us/step - loss: 2.0099 - acc: 0.5279 - val_loss: 2.0039 - val_acc: 0.5270\n",
            "Epoch 16/20\n",
            "7982/7982 [==============================] - 1s 132us/step - loss: 1.9813 - acc: 0.5306 - val_loss: 1.9782 - val_acc: 0.5300\n",
            "Epoch 17/20\n",
            "7982/7982 [==============================] - 1s 132us/step - loss: 1.9555 - acc: 0.5337 - val_loss: 1.9549 - val_acc: 0.5310\n",
            "Epoch 18/20\n",
            "7982/7982 [==============================] - 1s 135us/step - loss: 1.9318 - acc: 0.5391 - val_loss: 1.9336 - val_acc: 0.5370\n",
            "Epoch 19/20\n",
            "7982/7982 [==============================] - 1s 135us/step - loss: 1.9101 - acc: 0.5432 - val_loss: 1.9139 - val_acc: 0.5400\n",
            "Epoch 20/20\n",
            "7982/7982 [==============================] - 1s 132us/step - loss: 1.8901 - acc: 0.5481 - val_loss: 1.8957 - val_acc: 0.5430\n"
          ],
          "name": "stdout"
        }
      ]
    },
    {
      "cell_type": "code",
      "metadata": {
        "id": "eUOBX31ZAuGp",
        "colab_type": "code",
        "outputId": "2d61ef04-da5e-4f64-f652-8ff9d6276d90",
        "colab": {
          "base_uri": "https://localhost:8080/",
          "height": 573
        }
      },
      "source": [
        "import matplotlib.pyplot as plt\n",
        "\n",
        "loss = history.history['loss']\n",
        "val_loss = history.history['val_loss']\n",
        "\n",
        "epochs = range(1, len(loss) + 1)\n",
        "\n",
        "plt.plot(epochs, loss, 'bo', label='Training loss')  #“bo” is for “blue dot.”\n",
        "plt.plot(epochs, val_loss, 'b', label='Validation loss')  #“b” is for “solid blue line.”\n",
        "plt.title('Training and validation loss')\n",
        "plt.xlabel('Epochs')\n",
        "plt.ylabel('Loss')\n",
        "plt.legend()\n",
        "plt.show()\n",
        "\n",
        "plt.clf()\n",
        "acc = history.history['acc']\n",
        "val_acc = history.history['val_acc']\n",
        "plt.plot(epochs, acc, 'bo', label='Training acc')\n",
        "plt.plot(epochs, val_acc, 'b', label='Validation acc')\n",
        "plt.title('Training and validation accuracy')\n",
        "plt.xlabel('Epochs')\n",
        "plt.ylabel('Loss')\n",
        "plt.legend()\n",
        "plt.show()"
      ],
      "execution_count": 0,
      "outputs": [
        {
          "output_type": "display_data",
          "data": {
            "image/png": "[encoded data removed]",
            "text/plain": [
              "<Figure size 432x288 with 1 Axes>"
            ]
          },
          "metadata": {
            "tags": []
          }
        },
        {
          "output_type": "display_data",
          "data": {
            "image/png": "[encoded data removed]",
            "text/plain": [
              "<Figure size 432x288 with 1 Axes>"
            ]
          },
          "metadata": {
            "tags": []
          }
        }
      ]
    },
    {
      "cell_type": "markdown",
      "metadata": {
        "id": "xxX0q8x49XbY",
        "colab_type": "text"
      },
      "source": [
        "# **Multilayer Softmax Activation with Binary Cross Entropy Loss**"
      ]
    },
    {
      "cell_type": "code",
      "metadata": {
        "id": "yJWNHfDq9fA3",
        "colab_type": "code",
        "outputId": "8ee0613a-44be-4d73-c72d-85fedaa5583f",
        "colab": {
          "base_uri": "https://localhost:8080/",
          "height": 734
        }
      },
      "source": [
        "from keras import models\n",
        "from keras import layers\n",
        "\n",
        "\n",
        "model = models.Sequential()\n",
        "model.add(layers.Dense(46, activation='softmax', input_shape=(10000,)))\n",
        "model.add(layers.Dense(46, activation='relu', input_shape=(10000,)))\n",
        "model.compile( optimizer='sgd', loss ='binary_crossentropy' , metrics=['accuracy'])\n",
        "\n",
        "history=model.fit(partial_x_train,\n",
        "                  partial_y_train,\n",
        "                  epochs=20,\n",
        "                  batch_size=512,\n",
        "                  validation_data=(x_val, y_val))"
      ],
      "execution_count": 0,
      "outputs": [
        {
          "output_type": "stream",
          "text": [
            "Train on 7982 samples, validate on 1000 samples\n",
            "Epoch 1/20\n",
            "7982/7982 [==============================] - 1s 161us/step - loss: 0.2579 - acc: 0.9783 - val_loss: 0.2541 - val_acc: 0.9783\n",
            "Epoch 2/20\n",
            "7982/7982 [==============================] - 1s 130us/step - loss: 0.2533 - acc: 0.9783 - val_loss: 0.2521 - val_acc: 0.9783\n",
            "Epoch 3/20\n",
            "7982/7982 [==============================] - 1s 132us/step - loss: 0.2507 - acc: 0.9783 - val_loss: 0.2489 - val_acc: 0.9783\n",
            "Epoch 4/20\n",
            "7982/7982 [==============================] - 1s 132us/step - loss: 0.2487 - acc: 0.9783 - val_loss: 0.2480 - val_acc: 0.9783\n",
            "Epoch 5/20\n",
            "7982/7982 [==============================] - 1s 131us/step - loss: 0.2499 - acc: 0.9783 - val_loss: 0.2500 - val_acc: 0.9783\n",
            "Epoch 6/20\n",
            "7982/7982 [==============================] - 1s 131us/step - loss: 0.2501 - acc: 0.9783 - val_loss: 0.2497 - val_acc: 0.9783\n",
            "Epoch 7/20\n",
            "7982/7982 [==============================] - 1s 129us/step - loss: 0.2495 - acc: 0.9783 - val_loss: 0.2490 - val_acc: 0.9783\n",
            "Epoch 8/20\n",
            "7982/7982 [==============================] - 1s 132us/step - loss: 0.2490 - acc: 0.9783 - val_loss: 0.2486 - val_acc: 0.9783\n",
            "Epoch 9/20\n",
            "7982/7982 [==============================] - 1s 132us/step - loss: 0.2486 - acc: 0.9783 - val_loss: 0.2481 - val_acc: 0.9783\n",
            "Epoch 10/20\n",
            "7982/7982 [==============================] - 1s 133us/step - loss: 0.2483 - acc: 0.9783 - val_loss: 0.2477 - val_acc: 0.9783\n",
            "Epoch 11/20\n",
            "7982/7982 [==============================] - 1s 129us/step - loss: 0.2480 - acc: 0.9783 - val_loss: 0.2477 - val_acc: 0.9783\n",
            "Epoch 12/20\n",
            "7982/7982 [==============================] - 1s 131us/step - loss: 0.2477 - acc: 0.9783 - val_loss: 0.2473 - val_acc: 0.9783\n",
            "Epoch 13/20\n",
            "7982/7982 [==============================] - 1s 128us/step - loss: 0.2475 - acc: 0.9783 - val_loss: 0.2472 - val_acc: 0.9783\n",
            "Epoch 14/20\n",
            "7982/7982 [==============================] - 1s 129us/step - loss: 0.2473 - acc: 0.9783 - val_loss: 0.2471 - val_acc: 0.9783\n",
            "Epoch 15/20\n",
            "7982/7982 [==============================] - 1s 129us/step - loss: 0.2472 - acc: 0.9783 - val_loss: 0.2471 - val_acc: 0.9783\n",
            "Epoch 16/20\n",
            "7982/7982 [==============================] - 1s 131us/step - loss: 0.2470 - acc: 0.9783 - val_loss: 0.2470 - val_acc: 0.9783\n",
            "Epoch 17/20\n",
            "7982/7982 [==============================] - 1s 131us/step - loss: 0.2468 - acc: 0.9783 - val_loss: 0.2466 - val_acc: 0.9783\n",
            "Epoch 18/20\n",
            "7982/7982 [==============================] - 1s 129us/step - loss: 0.2467 - acc: 0.9783 - val_loss: 0.2467 - val_acc: 0.9783\n",
            "Epoch 19/20\n",
            "7982/7982 [==============================] - 1s 132us/step - loss: 0.2465 - acc: 0.9783 - val_loss: 0.2461 - val_acc: 0.9783\n",
            "Epoch 20/20\n",
            "7982/7982 [==============================] - 1s 133us/step - loss: 0.2463 - acc: 0.9783 - val_loss: 0.2460 - val_acc: 0.9783\n"
          ],
          "name": "stdout"
        }
      ]
    },
    {
      "cell_type": "code",
      "metadata": {
        "id": "FmJN5KOy95eo",
        "colab_type": "code",
        "outputId": "6cdc976c-5af1-449b-a71d-2ee1f71b0abf",
        "colab": {
          "base_uri": "https://localhost:8080/",
          "height": 573
        }
      },
      "source": [
        "import matplotlib.pyplot as plt\n",
        "\n",
        "loss = history.history['loss']\n",
        "val_loss = history.history['val_loss']\n",
        "\n",
        "epochs = range(1, len(loss) + 1)\n",
        "\n",
        "plt.plot(epochs, loss, 'bo', label='Training loss')  #“bo” is for “blue dot.”\n",
        "plt.plot(epochs, val_loss, 'b', label='Validation loss')  #“b” is for “solid blue line.”\n",
        "plt.title('Training and validation loss')\n",
        "plt.xlabel('Epochs')\n",
        "plt.ylabel('Loss')\n",
        "plt.legend()\n",
        "plt.show()\n",
        "\n",
        "plt.clf()\n",
        "acc = history.history['acc']\n",
        "val_acc = history.history['val_acc']\n",
        "plt.plot(epochs, acc, 'bo', label='Training acc')\n",
        "plt.plot(epochs, val_acc, 'b', label='Validation acc')\n",
        "plt.title('Training and validation accuracy')\n",
        "plt.xlabel('Epochs')\n",
        "plt.ylabel('Loss')\n",
        "plt.legend()\n",
        "plt.show()"
      ],
      "execution_count": 0,
      "outputs": [
        {
          "output_type": "display_data",
          "data": {
            "image/png": "[encoded data removed]",
            "text/plain": [
              "<Figure size 432x288 with 1 Axes>"
            ]
          },
          "metadata": {
            "tags": []
          }
        },
        {
          "output_type": "display_data",
          "data": {
            "image/png": "[encoded data removed]",
            "text/plain": [
              "<Figure size 432x288 with 1 Axes>"
            ]
          },
          "metadata": {
            "tags": []
          }
        }
      ]
    },
    {
      "cell_type": "markdown",
      "metadata": {
        "colab_type": "text",
        "id": "O8nQ7xPpC3pv"
      },
      "source": [
        "# **Softmax Activation with Binary Cross Entropy Loss**"
      ]
    },
    {
      "cell_type": "code",
      "metadata": {
        "colab_type": "code",
        "outputId": "962c94b2-b488-4e0e-c82b-534d4afe01d5",
        "id": "80fkiSuuC8sq",
        "colab": {
          "base_uri": "https://localhost:8080/",
          "height": 734
        }
      },
      "source": [
        "from keras import models\n",
        "from keras import layers\n",
        "\n",
        "\n",
        "model = models.Sequential()\n",
        "model.add(layers.Dense(46, activation='softmax', input_shape=(10000,)))\n",
        "model.compile( optimizer='sgd', loss ='binary_crossentropy' , metrics=['accuracy'])\n",
        "\n",
        "history=model.fit(partial_x_train,\n",
        "                  partial_y_train,\n",
        "                  epochs=20,\n",
        "                  batch_size=512,\n",
        "                  validation_data=(x_val, y_val))"
      ],
      "execution_count": 0,
      "outputs": [
        {
          "output_type": "stream",
          "text": [
            "Train on 7982 samples, validate on 1000 samples\n",
            "Epoch 1/20\n",
            "7982/7982 [==============================] - 1s 171us/step - loss: 0.1049 - acc: 0.9783 - val_loss: 0.1048 - val_acc: 0.9783\n",
            "Epoch 2/20\n",
            "7982/7982 [==============================] - 1s 137us/step - loss: 0.1048 - acc: 0.9783 - val_loss: 0.1046 - val_acc: 0.9783\n",
            "Epoch 3/20\n",
            "7982/7982 [==============================] - 1s 141us/step - loss: 0.1046 - acc: 0.9783 - val_loss: 0.1044 - val_acc: 0.9783\n",
            "Epoch 4/20\n",
            "7982/7982 [==============================] - 1s 138us/step - loss: 0.1044 - acc: 0.9783 - val_loss: 0.1042 - val_acc: 0.9783\n",
            "Epoch 5/20\n",
            "7982/7982 [==============================] - 1s 137us/step - loss: 0.1042 - acc: 0.9783 - val_loss: 0.1041 - val_acc: 0.9783\n",
            "Epoch 6/20\n",
            "7982/7982 [==============================] - 1s 136us/step - loss: 0.1040 - acc: 0.9783 - val_loss: 0.1039 - val_acc: 0.9783\n",
            "Epoch 7/20\n",
            "7982/7982 [==============================] - 1s 143us/step - loss: 0.1038 - acc: 0.9783 - val_loss: 0.1037 - val_acc: 0.9783\n",
            "Epoch 8/20\n",
            "7982/7982 [==============================] - 1s 136us/step - loss: 0.1036 - acc: 0.9783 - val_loss: 0.1035 - val_acc: 0.9783\n",
            "Epoch 9/20\n",
            "7982/7982 [==============================] - 1s 134us/step - loss: 0.1035 - acc: 0.9783 - val_loss: 0.1033 - val_acc: 0.9783\n",
            "Epoch 10/20\n",
            "7982/7982 [==============================] - 1s 138us/step - loss: 0.1033 - acc: 0.9783 - val_loss: 0.1031 - val_acc: 0.9783\n",
            "Epoch 11/20\n",
            "7982/7982 [==============================] - 1s 136us/step - loss: 0.1031 - acc: 0.9783 - val_loss: 0.1029 - val_acc: 0.9783\n",
            "Epoch 12/20\n",
            "7982/7982 [==============================] - 1s 137us/step - loss: 0.1029 - acc: 0.9783 - val_loss: 0.1028 - val_acc: 0.9783\n",
            "Epoch 13/20\n",
            "7982/7982 [==============================] - 1s 138us/step - loss: 0.1027 - acc: 0.9783 - val_loss: 0.1026 - val_acc: 0.9783\n",
            "Epoch 14/20\n",
            "7982/7982 [==============================] - 1s 136us/step - loss: 0.1025 - acc: 0.9783 - val_loss: 0.1024 - val_acc: 0.9783\n",
            "Epoch 15/20\n",
            "7982/7982 [==============================] - 1s 136us/step - loss: 0.1024 - acc: 0.9783 - val_loss: 0.1022 - val_acc: 0.9783\n",
            "Epoch 16/20\n",
            "7982/7982 [==============================] - 1s 138us/step - loss: 0.1022 - acc: 0.9783 - val_loss: 0.1020 - val_acc: 0.9783\n",
            "Epoch 17/20\n",
            "7982/7982 [==============================] - 1s 137us/step - loss: 0.1020 - acc: 0.9783 - val_loss: 0.1018 - val_acc: 0.9783\n",
            "Epoch 18/20\n",
            "7982/7982 [==============================] - 1s 136us/step - loss: 0.1018 - acc: 0.9783 - val_loss: 0.1017 - val_acc: 0.9783\n",
            "Epoch 19/20\n",
            "7982/7982 [==============================] - 1s 135us/step - loss: 0.1016 - acc: 0.9783 - val_loss: 0.1015 - val_acc: 0.9783\n",
            "Epoch 20/20\n",
            "7982/7982 [==============================] - 1s 130us/step - loss: 0.1015 - acc: 0.9783 - val_loss: 0.1013 - val_acc: 0.9783\n"
          ],
          "name": "stdout"
        }
      ]
    },
    {
      "cell_type": "code",
      "metadata": {
        "colab_type": "code",
        "outputId": "7361639e-1db4-400b-f0ef-27eb66071604",
        "id": "2ml-BzgUDHdH",
        "colab": {
          "base_uri": "https://localhost:8080/",
          "height": 573
        }
      },
      "source": [
        "import matplotlib.pyplot as plt\n",
        "\n",
        "loss = history.history['loss']\n",
        "val_loss = history.history['val_loss']\n",
        "\n",
        "epochs = range(1, len(loss) + 1)\n",
        "\n",
        "plt.plot(epochs, loss, 'bo', label='Training loss')  #“bo” is for “blue dot.”\n",
        "plt.plot(epochs, val_loss, 'b', label='Validation loss')  #“b” is for “solid blue line.”\n",
        "plt.title('Training and validation loss')\n",
        "plt.xlabel('Epochs')\n",
        "plt.ylabel('Loss')\n",
        "plt.legend()\n",
        "plt.show()\n",
        "\n",
        "plt.clf()\n",
        "acc = history.history['acc']\n",
        "val_acc = history.history['val_acc']\n",
        "plt.plot(epochs, acc, 'bo', label='Training acc')\n",
        "plt.plot(epochs, val_acc, 'b', label='Validation acc')\n",
        "plt.title('Training and validation accuracy')\n",
        "plt.xlabel('Epochs')\n",
        "plt.ylabel('Loss')\n",
        "plt.legend()\n",
        "plt.show()"
      ],
      "execution_count": 0,
      "outputs": [
        {
          "output_type": "display_data",
          "data": {
            "image/png": "[encoded data removed]",
            "text/plain": [
              "<Figure size 432x288 with 1 Axes>"
            ]
          },
          "metadata": {
            "tags": []
          }
        },
        {
          "output_type": "display_data",
          "data": {
            "image/png": "[encoded data removed]",
            "text/plain": [
              "<Figure size 432x288 with 1 Axes>"
            ]
          },
          "metadata": {
            "tags": []
          }
        }
      ]
    },
    {
      "cell_type": "markdown",
      "metadata": {
        "id": "dLU2yNODBmh0",
        "colab_type": "text"
      },
      "source": [
        "##CONCLUSIONES"
      ]
    },
    {
      "cell_type": "markdown",
      "metadata": {
        "id": "_oujg80tBtn1",
        "colab_type": "text"
      },
      "source": [
        "Con Softmax se obtiene el mejor performance utilizando costo Binary Crossentropy y Optimizer SGD de una capa, así obtenemos el más alto accuracy y el menor costovalor de pérdida."
      ]
    }
  ]
}