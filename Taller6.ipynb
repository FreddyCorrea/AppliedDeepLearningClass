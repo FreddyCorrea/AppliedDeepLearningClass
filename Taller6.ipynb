{
  "nbformat": 4,
  "nbformat_minor": 0,
  "metadata": {
    "colab": {
      "name": "Taller6.ipynb",
      "provenance": [],
      "include_colab_link": true
    },
    "kernelspec": {
      "name": "python3",
      "display_name": "Python 3"
    }
  },
  "cells": [
    {
      "cell_type": "markdown",
      "metadata": {
        "id": "view-in-github",
        "colab_type": "text"
      },
      "source": [
        "<a href=\"https://colab.research.google.com/github/FreddyCorrea/AppliedDeepLearningClass/blob/master/Taller6.ipynb\" target=\"_parent\"><img src=\"https://colab.research.google.com/assets/colab-badge.svg\" alt=\"Open In Colab\"/></a>"
      ]
    },
    {
      "cell_type": "markdown",
      "metadata": {
        "id": "fBhDMpITS8J7",
        "colab_type": "text"
      },
      "source": [
        "**TALLER 6**\n",
        "\n",
        "Freddy Alexander Correa Rueda Cod 201823450\n",
        "\n",
        "Andres Ortiz Cod 201411477\n",
        "\n",
        "Andres Gutierrez Cod"
      ]
    },
    {
      "cell_type": "code",
      "metadata": {
        "id": "QxdvKpV8Cln9",
        "colab_type": "code",
        "colab": {}
      },
      "source": [
        "from sklearn import preprocessing\n",
        "import numpy as np\n",
        "import pandas as pd\n",
        "import matplotlib.pyplot as plt"
      ],
      "execution_count": 0,
      "outputs": []
    },
    {
      "cell_type": "markdown",
      "metadata": {
        "id": "QO0oZq0sTVvL",
        "colab_type": "text"
      },
      "source": [
        ""
      ]
    },
    {
      "cell_type": "code",
      "metadata": {
        "id": "KT6QorHzD4UB",
        "colab_type": "code",
        "outputId": "ceccdcc9-4d2e-4a2b-9c78-05e11f25a830",
        "colab": {
          "resources": {
            "http://localhost:8080/nbextensions/google.colab/files.js": {
              "data": "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",
              "ok": true,
              "headers": [
                [
                  "content-type",
                  "application/javascript"
                ]
              ],
              "status": 200,
              "status_text": ""
            }
          },
          "base_uri": "https://localhost:8080/",
          "height": 75
        }
      },
      "source": [
        "from google.colab import files\n",
        "uploaded = files.upload()"
      ],
      "execution_count": 0,
      "outputs": [
        {
          "output_type": "display_data",
          "data": {
            "text/html": [
              "\n",
              "     <input type=\"file\" id=\"files-580100be-91ce-4455-89d5-cdeb8f7b4bbd\" name=\"files[]\" multiple disabled />\n",
              "     <output id=\"result-580100be-91ce-4455-89d5-cdeb8f7b4bbd\">\n",
              "      Upload widget is only available when the cell has been executed in the\n",
              "      current browser session. Please rerun this cell to enable.\n",
              "      </output>\n",
              "      <script src=\"/nbextensions/google.colab/files.js\"></script> "
            ],
            "text/plain": [
              "<IPython.core.display.HTML object>"
            ]
          },
          "metadata": {
            "tags": []
          }
        },
        {
          "output_type": "stream",
          "text": [
            "Saving california_housing_train.csv to california_housing_train.csv\n"
          ],
          "name": "stdout"
        }
      ]
    },
    {
      "cell_type": "code",
      "metadata": {
        "id": "hCPI5SQZHaqa",
        "colab_type": "code",
        "colab": {}
      },
      "source": [
        "import io\n",
        "df = pd.read_csv(io.StringIO(uploaded['california_housing_train.csv'].decode('utf-8')))\n",
        "names = df.columns"
      ],
      "execution_count": 0,
      "outputs": []
    },
    {
      "cell_type": "markdown",
      "metadata": {
        "id": "dtPCyzkvIWc3",
        "colab_type": "text"
      },
      "source": [
        "# **Original data + original model**"
      ]
    },
    {
      "cell_type": "code",
      "metadata": {
        "id": "-ECu1OfCs8UX",
        "colab_type": "code",
        "outputId": "41327a0a-7adc-40a5-9d0c-b9f0b36acb96",
        "colab": {
          "base_uri": "https://localhost:8080/",
          "height": 483
        }
      },
      "source": [
        "from keras import models\n",
        "from keras import layers\n",
        "from keras.layers import Dense\n",
        "\n",
        "orimodel = models.Sequential()\n",
        "orimodel.add(Dense(16, input_dim=8, activation='relu'))\n",
        "orimodel.add(Dense(32, activation='relu'))\n",
        "orimodel.add(Dense(1, activation='relu'))\n",
        "# setting up the optimization of our weights \n",
        "orimodel.compile(loss='mse', optimizer='rmsprop', metrics=['mae'])\n",
        "orimodel.summary()"
      ],
      "execution_count": 0,
      "outputs": [
        {
          "output_type": "stream",
          "text": [
            "Using TensorFlow backend.\n"
          ],
          "name": "stderr"
        },
        {
          "output_type": "display_data",
          "data": {
            "text/html": [
              "<p style=\"color: red;\">\n",
              "The default version of TensorFlow in Colab will soon switch to TensorFlow 2.x.<br>\n",
              "We recommend you <a href=\"https://www.tensorflow.org/guide/migrate\" target=\"_blank\">upgrade</a> now \n",
              "or ensure your notebook will continue to use TensorFlow 1.x via the <code>%tensorflow_version 1.x</code> magic:\n",
              "<a href=\"https://colab.research.google.com/notebooks/tensorflow_version.ipynb\" target=\"_blank\">more info</a>.</p>\n"
            ],
            "text/plain": [
              "<IPython.core.display.HTML object>"
            ]
          },
          "metadata": {
            "tags": []
          }
        },
        {
          "output_type": "stream",
          "text": [
            "WARNING:tensorflow:From /usr/local/lib/python3.6/dist-packages/keras/backend/tensorflow_backend.py:66: The name tf.get_default_graph is deprecated. Please use tf.compat.v1.get_default_graph instead.\n",
            "\n",
            "WARNING:tensorflow:From /usr/local/lib/python3.6/dist-packages/keras/backend/tensorflow_backend.py:541: The name tf.placeholder is deprecated. Please use tf.compat.v1.placeholder instead.\n",
            "\n",
            "WARNING:tensorflow:From /usr/local/lib/python3.6/dist-packages/keras/backend/tensorflow_backend.py:4432: The name tf.random_uniform is deprecated. Please use tf.random.uniform instead.\n",
            "\n",
            "WARNING:tensorflow:From /usr/local/lib/python3.6/dist-packages/keras/optimizers.py:793: The name tf.train.Optimizer is deprecated. Please use tf.compat.v1.train.Optimizer instead.\n",
            "\n",
            "Model: \"sequential_1\"\n",
            "_________________________________________________________________\n",
            "Layer (type)                 Output Shape              Param #   \n",
            "=================================================================\n",
            "dense_1 (Dense)              (None, 16)                144       \n",
            "_________________________________________________________________\n",
            "dense_2 (Dense)              (None, 32)                544       \n",
            "_________________________________________________________________\n",
            "dense_3 (Dense)              (None, 1)                 33        \n",
            "=================================================================\n",
            "Total params: 721\n",
            "Trainable params: 721\n",
            "Non-trainable params: 0\n",
            "_________________________________________________________________\n"
          ],
          "name": "stdout"
        }
      ]
    },
    {
      "cell_type": "code",
      "metadata": {
        "id": "_j_NENeYD4k_",
        "colab_type": "code",
        "outputId": "2ac8b940-a11e-468b-9d20-e4b578321b65",
        "colab": {
          "base_uri": "https://localhost:8080/",
          "height": 1000
        }
      },
      "source": [
        "history = orimodel.fit(df[df.columns[:-1]], df[df.columns[-1:]], epochs=20, batch_size=32, validation_split=0.2)"
      ],
      "execution_count": 0,
      "outputs": [
        {
          "output_type": "stream",
          "text": [
            "WARNING:tensorflow:From /usr/local/lib/python3.6/dist-packages/keras/backend/tensorflow_backend.py:1033: The name tf.assign_add is deprecated. Please use tf.compat.v1.assign_add instead.\n",
            "\n",
            "WARNING:tensorflow:From /usr/local/lib/python3.6/dist-packages/keras/backend/tensorflow_backend.py:1020: The name tf.assign is deprecated. Please use tf.compat.v1.assign instead.\n",
            "\n",
            "WARNING:tensorflow:From /usr/local/lib/python3.6/dist-packages/keras/backend/tensorflow_backend.py:3005: The name tf.Session is deprecated. Please use tf.compat.v1.Session instead.\n",
            "\n",
            "Train on 13600 samples, validate on 3400 samples\n",
            "Epoch 1/20\n",
            "WARNING:tensorflow:From /usr/local/lib/python3.6/dist-packages/keras/backend/tensorflow_backend.py:190: The name tf.get_default_session is deprecated. Please use tf.compat.v1.get_default_session instead.\n",
            "\n",
            "WARNING:tensorflow:From /usr/local/lib/python3.6/dist-packages/keras/backend/tensorflow_backend.py:197: The name tf.ConfigProto is deprecated. Please use tf.compat.v1.ConfigProto instead.\n",
            "\n",
            "WARNING:tensorflow:From /usr/local/lib/python3.6/dist-packages/keras/backend/tensorflow_backend.py:207: The name tf.global_variables is deprecated. Please use tf.compat.v1.global_variables instead.\n",
            "\n",
            "WARNING:tensorflow:From /usr/local/lib/python3.6/dist-packages/keras/backend/tensorflow_backend.py:216: The name tf.is_variable_initialized is deprecated. Please use tf.compat.v1.is_variable_initialized instead.\n",
            "\n",
            "WARNING:tensorflow:From /usr/local/lib/python3.6/dist-packages/keras/backend/tensorflow_backend.py:223: The name tf.variables_initializer is deprecated. Please use tf.compat.v1.variables_initializer instead.\n",
            "\n",
            "13600/13600 [==============================] - 1s 94us/step - loss: 38751157182.9459 - mean_absolute_error: 160952.1029 - val_loss: 38010640945.2424 - val_mean_absolute_error: 154020.1843\n",
            "Epoch 2/20\n",
            "13600/13600 [==============================] - 1s 41us/step - loss: 24918242818.4094 - mean_absolute_error: 113193.1611 - val_loss: 34811347607.4918 - val_mean_absolute_error: 145729.1118\n",
            "Epoch 3/20\n",
            "13600/13600 [==============================] - 1s 41us/step - loss: 24269754072.8471 - mean_absolute_error: 111065.8198 - val_loss: 33954479133.0635 - val_mean_absolute_error: 143498.4040\n",
            "Epoch 4/20\n",
            "13600/13600 [==============================] - 1s 39us/step - loss: 23440671324.7624 - mean_absolute_error: 108755.2056 - val_loss: 32605110794.5412 - val_mean_absolute_error: 139988.3147\n",
            "Epoch 5/20\n",
            "13600/13600 [==============================] - 1s 40us/step - loss: 22382192072.5835 - mean_absolute_error: 106010.5793 - val_loss: 30103016569.9765 - val_mean_absolute_error: 133528.1609\n",
            "Epoch 6/20\n",
            "13600/13600 [==============================] - 1s 40us/step - loss: 21060396339.2000 - mean_absolute_error: 102361.8118 - val_loss: 28044598208.1506 - val_mean_absolute_error: 128274.7394\n",
            "Epoch 7/20\n",
            "13600/13600 [==============================] - 1s 40us/step - loss: 19323809680.5647 - mean_absolute_error: 97706.1748 - val_loss: 25947595015.8306 - val_mean_absolute_error: 122892.6640\n",
            "Epoch 8/20\n",
            "13600/13600 [==============================] - 1s 40us/step - loss: 16808018264.5459 - mean_absolute_error: 91735.0735 - val_loss: 22158983825.7694 - val_mean_absolute_error: 113539.5081\n",
            "Epoch 9/20\n",
            "13600/13600 [==============================] - 1s 42us/step - loss: 13905269732.2918 - mean_absolute_error: 84884.3001 - val_loss: 17728075732.6306 - val_mean_absolute_error: 103098.8616\n",
            "Epoch 10/20\n",
            "13600/13600 [==============================] - 1s 41us/step - loss: 11386951610.1271 - mean_absolute_error: 79634.4282 - val_loss: 15214454041.9012 - val_mean_absolute_error: 98287.9290\n",
            "Epoch 11/20\n",
            "13600/13600 [==============================] - 1s 40us/step - loss: 10569947861.8353 - mean_absolute_error: 78845.4952 - val_loss: 14565326766.0800 - val_mean_absolute_error: 97460.7461\n",
            "Epoch 12/20\n",
            "13600/13600 [==============================] - 1s 42us/step - loss: 10398251957.9106 - mean_absolute_error: 78684.0572 - val_loss: 14166800839.3788 - val_mean_absolute_error: 96706.1258\n",
            "Epoch 13/20\n",
            "13600/13600 [==============================] - 1s 43us/step - loss: 10297062663.8306 - mean_absolute_error: 78483.9339 - val_loss: 14022216925.6659 - val_mean_absolute_error: 96269.0336\n",
            "Epoch 14/20\n",
            "13600/13600 [==============================] - 1s 41us/step - loss: 10188300518.0988 - mean_absolute_error: 78075.8367 - val_loss: 14252387988.1788 - val_mean_absolute_error: 96674.6986\n",
            "Epoch 15/20\n",
            "13600/13600 [==============================] - 1s 41us/step - loss: 10100977189.9482 - mean_absolute_error: 77717.0677 - val_loss: 13624042640.5647 - val_mean_absolute_error: 95257.6495\n",
            "Epoch 16/20\n",
            "13600/13600 [==============================] - 1s 40us/step - loss: 10008500453.4965 - mean_absolute_error: 77387.8615 - val_loss: 13745207534.5318 - val_mean_absolute_error: 95249.9613\n",
            "Epoch 17/20\n",
            "13600/13600 [==============================] - 1s 42us/step - loss: 9922265892.7435 - mean_absolute_error: 77010.0304 - val_loss: 13851182048.6776 - val_mean_absolute_error: 95387.9065\n",
            "Epoch 18/20\n",
            "13600/13600 [==============================] - 1s 43us/step - loss: 9827369074.4471 - mean_absolute_error: 76592.0488 - val_loss: 13426544505.0729 - val_mean_absolute_error: 94350.9930\n",
            "Epoch 19/20\n",
            "13600/13600 [==============================] - 1s 42us/step - loss: 9738422837.6094 - mean_absolute_error: 76316.2219 - val_loss: 13118671397.3459 - val_mean_absolute_error: 93580.1956\n",
            "Epoch 20/20\n",
            "13600/13600 [==============================] - 1s 41us/step - loss: 9646061347.5388 - mean_absolute_error: 75925.2640 - val_loss: 13420883982.4565 - val_mean_absolute_error: 94179.3931\n"
          ],
          "name": "stdout"
        }
      ]
    },
    {
      "cell_type": "code",
      "metadata": {
        "id": "LakwmR9gD4tw",
        "colab_type": "code",
        "outputId": "381938d6-73bd-4719-dbbc-27c066323261",
        "colab": {
          "base_uri": "https://localhost:8080/",
          "height": 295
        }
      },
      "source": [
        "import matplotlib.pyplot as plt\n",
        "maeO = history.history['mean_absolute_error']\n",
        "val_maeO = history.history['val_mean_absolute_error']\n",
        "epochs = range (1, len(maeO)+1)\n",
        "plt.plot(epochs, maeO, 'bo', label='Training mae')\n",
        "plt.plot(epochs, val_maeO, 'b', label='Validation mae')\n",
        "plt.title('Trainig and validation mae')\n",
        "plt.xlabel('Epochs')\n",
        "plt.ylabel('mae')\n",
        "plt.legend()\n",
        "\n",
        "plt.show()"
      ],
      "execution_count": 0,
      "outputs": [
        {
          "output_type": "display_data",
          "data": {
            "image/png": "[encoded data removed]",
            "text/plain": [
              "<Figure size 432x288 with 1 Axes>"
            ]
          },
          "metadata": {
            "tags": []
          }
        }
      ]
    },
    {
      "cell_type": "markdown",
      "metadata": {
        "id": "MJJxYSaJIsue",
        "colab_type": "text"
      },
      "source": [
        "# **Normalizing input**"
      ]
    },
    {
      "cell_type": "code",
      "metadata": {
        "id": "B30oGDOuH_gu",
        "colab_type": "code",
        "colab": {}
      },
      "source": [
        "# Normalize columns\n",
        "normalized = preprocessing.normalize(df)\n",
        "normalized = pd.DataFrame(normalized, columns=names)"
      ],
      "execution_count": 0,
      "outputs": []
    },
    {
      "cell_type": "code",
      "metadata": {
        "id": "MM-MYpBRH_st",
        "colab_type": "code",
        "colab": {}
      },
      "source": [
        "dfnor = normalized"
      ],
      "execution_count": 0,
      "outputs": []
    },
    {
      "cell_type": "code",
      "metadata": {
        "id": "bJpXZhjwH_vp",
        "colab_type": "code",
        "colab": {}
      },
      "source": [
        "from sklearn.preprocessing import MinMaxScaler\n",
        "\n",
        "# create scaler\n",
        "scaler = MinMaxScaler()\n",
        "# fit scaler on data\n",
        "scaler.fit(df)\n",
        "# apply transform\n",
        "normalized2 = scaler.transform(df)\n",
        "normalized2 = pd.DataFrame(normalized2, columns=names)\n",
        "dfnor2=normalized2\n",
        "# inverse transform\n",
        "inverse = scaler.inverse_transform(normalized2)"
      ],
      "execution_count": 0,
      "outputs": []
    },
    {
      "cell_type": "code",
      "metadata": {
        "id": "Vz-gFHgPJzYc",
        "colab_type": "code",
        "colab": {}
      },
      "source": [
        "# Create the Scaler object\n",
        "scaler = preprocessing.StandardScaler()\n",
        "# Fit your data on the scaler object\n",
        "scaled_df = scaler.fit_transform(df)\n",
        "scaled_df = pd.DataFrame(scaled_df, columns=names)"
      ],
      "execution_count": 0,
      "outputs": []
    },
    {
      "cell_type": "markdown",
      "metadata": {
        "id": "BDWlHCqmJ6Uf",
        "colab_type": "text"
      },
      "source": [
        "# **Shuffling the training samples**"
      ]
    },
    {
      "cell_type": "code",
      "metadata": {
        "id": "1ryBPexqH_zG",
        "colab_type": "code",
        "colab": {}
      },
      "source": [
        "def Randomizing(df):\n",
        "    df2 = df.reindex(np.random.permutation(df.index))\n",
        "    return df2"
      ],
      "execution_count": 0,
      "outputs": []
    },
    {
      "cell_type": "code",
      "metadata": {
        "id": "_YSDpnWqH_1e",
        "colab_type": "code",
        "outputId": "aef67341-5c14-4963-a536-213cc62c6704",
        "colab": {
          "base_uri": "https://localhost:8080/",
          "height": 202
        }
      },
      "source": [
        "dfnor2=Randomizing(dfnor2)\n",
        "Randomizing(dfnor2).head()"
      ],
      "execution_count": 0,
      "outputs": [
        {
          "output_type": "execute_result",
          "data": {
            "text/html": [
              "<div>\n",
              "<style scoped>\n",
              "    .dataframe tbody tr th:only-of-type {\n",
              "        vertical-align: middle;\n",
              "    }\n",
              "\n",
              "    .dataframe tbody tr th {\n",
              "        vertical-align: top;\n",
              "    }\n",
              "\n",
              "    .dataframe thead th {\n",
              "        text-align: right;\n",
              "    }\n",
              "</style>\n",
              "<table border=\"1\" class=\"dataframe\">\n",
              "  <thead>\n",
              "    <tr style=\"text-align: right;\">\n",
              "      <th></th>\n",
              "      <th>longitude</th>\n",
              "      <th>latitude</th>\n",
              "      <th>housing_median_age</th>\n",
              "      <th>total_rooms</th>\n",
              "      <th>total_bedrooms</th>\n",
              "      <th>population</th>\n",
              "      <th>households</th>\n",
              "      <th>median_income</th>\n",
              "      <th>median_house_value</th>\n",
              "    </tr>\n",
              "  </thead>\n",
              "  <tbody>\n",
              "    <tr>\n",
              "      <th>9926</th>\n",
              "      <td>0.459163</td>\n",
              "      <td>0.450584</td>\n",
              "      <td>0.509804</td>\n",
              "      <td>0.106682</td>\n",
              "      <td>0.146803</td>\n",
              "      <td>0.063090</td>\n",
              "      <td>0.144877</td>\n",
              "      <td>0.120467</td>\n",
              "      <td>0.114847</td>\n",
              "    </tr>\n",
              "    <tr>\n",
              "      <th>13775</th>\n",
              "      <td>0.233068</td>\n",
              "      <td>0.572795</td>\n",
              "      <td>0.470588</td>\n",
              "      <td>0.069856</td>\n",
              "      <td>0.051831</td>\n",
              "      <td>0.029681</td>\n",
              "      <td>0.054761</td>\n",
              "      <td>0.488952</td>\n",
              "      <td>0.649896</td>\n",
              "    </tr>\n",
              "    <tr>\n",
              "      <th>1548</th>\n",
              "      <td>0.710159</td>\n",
              "      <td>0.212540</td>\n",
              "      <td>0.137255</td>\n",
              "      <td>0.330144</td>\n",
              "      <td>0.387027</td>\n",
              "      <td>0.171810</td>\n",
              "      <td>0.382010</td>\n",
              "      <td>0.166018</td>\n",
              "      <td>0.214847</td>\n",
              "    </tr>\n",
              "    <tr>\n",
              "      <th>11388</th>\n",
              "      <td>0.311753</td>\n",
              "      <td>0.625930</td>\n",
              "      <td>0.372549</td>\n",
              "      <td>0.054093</td>\n",
              "      <td>0.052452</td>\n",
              "      <td>0.026094</td>\n",
              "      <td>0.055090</td>\n",
              "      <td>0.278403</td>\n",
              "      <td>0.421237</td>\n",
              "    </tr>\n",
              "    <tr>\n",
              "      <th>11897</th>\n",
              "      <td>0.297809</td>\n",
              "      <td>0.645058</td>\n",
              "      <td>0.666667</td>\n",
              "      <td>0.062027</td>\n",
              "      <td>0.056487</td>\n",
              "      <td>0.027747</td>\n",
              "      <td>0.058050</td>\n",
              "      <td>0.313741</td>\n",
              "      <td>0.266187</td>\n",
              "    </tr>\n",
              "  </tbody>\n",
              "</table>\n",
              "</div>"
            ],
            "text/plain": [
              "       longitude  latitude  ...  median_income  median_house_value\n",
              "9926    0.459163  0.450584  ...       0.120467            0.114847\n",
              "13775   0.233068  0.572795  ...       0.488952            0.649896\n",
              "1548    0.710159  0.212540  ...       0.166018            0.214847\n",
              "11388   0.311753  0.625930  ...       0.278403            0.421237\n",
              "11897   0.297809  0.645058  ...       0.313741            0.266187\n",
              "\n",
              "[5 rows x 9 columns]"
            ]
          },
          "metadata": {
            "tags": []
          },
          "execution_count": 12
        }
      ]
    },
    {
      "cell_type": "markdown",
      "metadata": {
        "id": "98AFGG0jKHh_",
        "colab_type": "text"
      },
      "source": [
        "# Batch Normalization, Dropout, lr decay, **momentum**"
      ]
    },
    {
      "cell_type": "code",
      "metadata": {
        "id": "1JSg-QsAH_4X",
        "colab_type": "code",
        "outputId": "7cdf9549-0543-4271-f769-17dcc3683bfe",
        "colab": {
          "base_uri": "https://localhost:8080/",
          "height": 1000
        }
      },
      "source": [
        "# import BatchNormalization\n",
        "from keras.layers.normalization import BatchNormalization\n",
        "from keras import Sequential\n",
        "from keras.layers import Activation, Dense, Dropout\n",
        "from keras.optimizers import SGD, rmsprop\n",
        "\n",
        "# instantiate model\n",
        "model = Sequential()\n",
        "\n",
        "# we can think of this chunk as the input layer\n",
        "model.add(Dense(16, input_dim=8, kernel_initializer='uniform'))\n",
        "model.add(BatchNormalization())\n",
        "model.add(Activation('relu'))\n",
        "model.add(Dropout(0.5))\n",
        "\n",
        "# we can think of this chunk as the hidden layer    \n",
        "model.add(Dense(32, kernel_initializer='uniform'))\n",
        "model.add(BatchNormalization())\n",
        "model.add(Activation('relu'))\n",
        "model.add(Dropout(0.5))\n",
        "\n",
        "# we can think of this chunk as the output layer\n",
        "model.add(Dense(1, kernel_initializer='uniform'))\n",
        "model.add(BatchNormalization())\n",
        "model.add(Activation('relu'))\n",
        "\n",
        "# setting up the optimization of our weights \n",
        "sgd = SGD(lr=0.1, decay=1e-6, momentum=0.7, nesterov=True)\n",
        "model.compile(loss='mse', optimizer= sgd, metrics=['mae'])\n",
        "\n",
        "# running the fitting\n",
        "history = model.fit(dfnor2[dfnor2.columns[:-1]], dfnor2[dfnor2.columns[-1:]], nb_epoch=10, batch_size=512, validation_split=0.2)\n",
        "#history = model.fit(df[df.columns[:-1]], df[df.columns[-1:]], epochs=20, batch_size=32, validation_split=0.2)\n",
        "model.summary()"
      ],
      "execution_count": 0,
      "outputs": [
        {
          "output_type": "stream",
          "text": [
            "WARNING:tensorflow:From /usr/local/lib/python3.6/dist-packages/keras/backend/tensorflow_backend.py:148: The name tf.placeholder_with_default is deprecated. Please use tf.compat.v1.placeholder_with_default instead.\n",
            "\n",
            "WARNING:tensorflow:From /usr/local/lib/python3.6/dist-packages/keras/backend/tensorflow_backend.py:3733: calling dropout (from tensorflow.python.ops.nn_ops) with keep_prob is deprecated and will be removed in a future version.\n",
            "Instructions for updating:\n",
            "Please use `rate` instead of `keep_prob`. Rate should be set to `rate = 1 - keep_prob`.\n"
          ],
          "name": "stdout"
        },
        {
          "output_type": "stream",
          "text": [
            "/usr/local/lib/python3.6/dist-packages/ipykernel_launcher.py:31: UserWarning: The `nb_epoch` argument in `fit` has been renamed `epochs`.\n"
          ],
          "name": "stderr"
        },
        {
          "output_type": "stream",
          "text": [
            "Train on 13600 samples, validate on 3400 samples\n",
            "Epoch 1/10\n",
            "13600/13600 [==============================] - 1s 60us/step - loss: 0.0928 - mean_absolute_error: 0.2416 - val_loss: 0.0706 - val_mean_absolute_error: 0.2106\n",
            "Epoch 2/10\n",
            "13600/13600 [==============================] - 0s 7us/step - loss: 0.0665 - mean_absolute_error: 0.2042 - val_loss: 0.0541 - val_mean_absolute_error: 0.1890\n",
            "Epoch 3/10\n",
            "13600/13600 [==============================] - 0s 7us/step - loss: 0.0586 - mean_absolute_error: 0.1904 - val_loss: 0.0471 - val_mean_absolute_error: 0.1653\n",
            "Epoch 4/10\n",
            "13600/13600 [==============================] - 0s 8us/step - loss: 0.0512 - mean_absolute_error: 0.1777 - val_loss: 0.0455 - val_mean_absolute_error: 0.1590\n",
            "Epoch 5/10\n",
            "13600/13600 [==============================] - 0s 7us/step - loss: 0.0455 - mean_absolute_error: 0.1681 - val_loss: 0.0373 - val_mean_absolute_error: 0.1432\n",
            "Epoch 6/10\n",
            "13600/13600 [==============================] - 0s 7us/step - loss: 0.0405 - mean_absolute_error: 0.1574 - val_loss: 0.0305 - val_mean_absolute_error: 0.1248\n",
            "Epoch 7/10\n",
            "13600/13600 [==============================] - 0s 7us/step - loss: 0.0374 - mean_absolute_error: 0.1499 - val_loss: 0.0289 - val_mean_absolute_error: 0.1202\n",
            "Epoch 8/10\n",
            "13600/13600 [==============================] - 0s 7us/step - loss: 0.0361 - mean_absolute_error: 0.1461 - val_loss: 0.0274 - val_mean_absolute_error: 0.1193\n",
            "Epoch 9/10\n",
            "13600/13600 [==============================] - 0s 8us/step - loss: 0.0338 - mean_absolute_error: 0.1414 - val_loss: 0.0269 - val_mean_absolute_error: 0.1174\n",
            "Epoch 10/10\n",
            "13600/13600 [==============================] - 0s 7us/step - loss: 0.0340 - mean_absolute_error: 0.1409 - val_loss: 0.0285 - val_mean_absolute_error: 0.1230\n",
            "Model: \"sequential_2\"\n",
            "_________________________________________________________________\n",
            "Layer (type)                 Output Shape              Param #   \n",
            "=================================================================\n",
            "dense_4 (Dense)              (None, 16)                144       \n",
            "_________________________________________________________________\n",
            "batch_normalization_1 (Batch (None, 16)                64        \n",
            "_________________________________________________________________\n",
            "activation_1 (Activation)    (None, 16)                0         \n",
            "_________________________________________________________________\n",
            "dropout_1 (Dropout)          (None, 16)                0         \n",
            "_________________________________________________________________\n",
            "dense_5 (Dense)              (None, 32)                544       \n",
            "_________________________________________________________________\n",
            "batch_normalization_2 (Batch (None, 32)                128       \n",
            "_________________________________________________________________\n",
            "activation_2 (Activation)    (None, 32)                0         \n",
            "_________________________________________________________________\n",
            "dropout_2 (Dropout)          (None, 32)                0         \n",
            "_________________________________________________________________\n",
            "dense_6 (Dense)              (None, 1)                 33        \n",
            "_________________________________________________________________\n",
            "batch_normalization_3 (Batch (None, 1)                 4         \n",
            "_________________________________________________________________\n",
            "activation_3 (Activation)    (None, 1)                 0         \n",
            "=================================================================\n",
            "Total params: 917\n",
            "Trainable params: 819\n",
            "Non-trainable params: 98\n",
            "_________________________________________________________________\n"
          ],
          "name": "stdout"
        }
      ]
    },
    {
      "cell_type": "code",
      "metadata": {
        "id": "PR_diMnVH_5x",
        "colab_type": "code",
        "outputId": "1aca604d-1efb-4fdc-df60-635622083543",
        "colab": {
          "base_uri": "https://localhost:8080/",
          "height": 295
        }
      },
      "source": [
        "import matplotlib.pyplot as plt\n",
        "\n",
        "mae = history.history['mean_absolute_error']\n",
        "val_mae = history.history['val_mean_absolute_error']\n",
        "epochs = range (1, len(mae)+1)\n",
        "\n",
        "plt.plot(epochs, mae, 'bo', label='Training mae')\n",
        "plt.plot(epochs, val_mae, 'b', label='Validation mae')\n",
        "plt.title('Trainig and validation mae + normalized data')\n",
        "plt.xlabel('Epochs')\n",
        "plt.ylabel('mae')\n",
        "plt.legend()\n",
        "\n",
        "plt.show()"
      ],
      "execution_count": 0,
      "outputs": [
        {
          "output_type": "display_data",
          "data": {
            "image/png": "[encoded data removed]",
            "text/plain": [
              "<Figure size 432x288 with 1 Axes>"
            ]
          },
          "metadata": {
            "tags": []
          }
        }
      ]
    },
    {
      "cell_type": "markdown",
      "metadata": {
        "id": "I8veplzmWZyz",
        "colab_type": "text"
      },
      "source": [
        "# **MODELO 2**"
      ]
    },
    {
      "cell_type": "code",
      "metadata": {
        "id": "MO-JVNfyH_8O",
        "colab_type": "code",
        "outputId": "bdc6ca63-2cad-4da4-c684-1436cd430039",
        "colab": {
          "base_uri": "https://localhost:8080/",
          "height": 939
        }
      },
      "source": [
        "from keras.optimizers import SGD, rmsprop, Adam, Nadam\n",
        "# instantiate model\n",
        "model = Sequential()\n",
        "\n",
        "# we can think of this chunk as the input layer\n",
        "model.add(Dense(32, input_dim=8, kernel_initializer='uniform'))\n",
        "model.add(BatchNormalization())\n",
        "model.add(Activation('relu'))\n",
        "model.add(Dropout(0.5))\n",
        "\n",
        "# we can think of this chunk as the hidden layer    \n",
        "model.add(Dense(64, kernel_initializer='uniform'))\n",
        "model.add(BatchNormalization())\n",
        "model.add(Activation('relu'))\n",
        "model.add(Dropout(0.5))\n",
        "\n",
        "# we can think of this chunk as the output layer\n",
        "model.add(Dense(1, kernel_initializer='uniform'))\n",
        "model.add(BatchNormalization())\n",
        "model.add(Activation('relu'))\n",
        "\n",
        "# setting up the optimization of our weights \n",
        "optimizer = Nadam(lr = 0.05)\n",
        "model.compile(loss='mse', optimizer= optimizer, metrics=['mae'])\n",
        "\n",
        "# running the fitting\n",
        "history = model.fit(dfnor2[dfnor2.columns[:-1]], dfnor2[dfnor2.columns[-1:]], nb_epoch=10, batch_size=512, validation_split=0.2)\n",
        "model.summary()"
      ],
      "execution_count": 0,
      "outputs": [
        {
          "output_type": "stream",
          "text": [
            "/usr/local/lib/python3.6/dist-packages/ipykernel_launcher.py:27: UserWarning: The `nb_epoch` argument in `fit` has been renamed `epochs`.\n"
          ],
          "name": "stderr"
        },
        {
          "output_type": "stream",
          "text": [
            "Train on 13600 samples, validate on 3400 samples\n",
            "Epoch 1/10\n",
            "13600/13600 [==============================] - 1s 88us/step - loss: 0.0951 - mean_absolute_error: 0.2361 - val_loss: 0.0613 - val_mean_absolute_error: 0.1892\n",
            "Epoch 2/10\n",
            "13600/13600 [==============================] - 0s 12us/step - loss: 0.0602 - mean_absolute_error: 0.1929 - val_loss: 0.0519 - val_mean_absolute_error: 0.1841\n",
            "Epoch 3/10\n",
            "13600/13600 [==============================] - 0s 12us/step - loss: 0.0482 - mean_absolute_error: 0.1723 - val_loss: 0.0447 - val_mean_absolute_error: 0.1758\n",
            "Epoch 4/10\n",
            "13600/13600 [==============================] - 0s 12us/step - loss: 0.0407 - mean_absolute_error: 0.1571 - val_loss: 0.0436 - val_mean_absolute_error: 0.1776\n",
            "Epoch 5/10\n",
            "13600/13600 [==============================] - 0s 12us/step - loss: 0.0372 - mean_absolute_error: 0.1494 - val_loss: 0.0409 - val_mean_absolute_error: 0.1591\n",
            "Epoch 6/10\n",
            "13600/13600 [==============================] - 0s 14us/step - loss: 0.0349 - mean_absolute_error: 0.1433 - val_loss: 0.0334 - val_mean_absolute_error: 0.1403\n",
            "Epoch 7/10\n",
            "13600/13600 [==============================] - 0s 13us/step - loss: 0.0320 - mean_absolute_error: 0.1361 - val_loss: 0.0332 - val_mean_absolute_error: 0.1402\n",
            "Epoch 8/10\n",
            "13600/13600 [==============================] - 0s 14us/step - loss: 0.0310 - mean_absolute_error: 0.1327 - val_loss: 0.0314 - val_mean_absolute_error: 0.1332\n",
            "Epoch 9/10\n",
            "13600/13600 [==============================] - 0s 14us/step - loss: 0.0301 - mean_absolute_error: 0.1307 - val_loss: 0.0390 - val_mean_absolute_error: 0.1405\n",
            "Epoch 10/10\n",
            "13600/13600 [==============================] - 0s 12us/step - loss: 0.0291 - mean_absolute_error: 0.1283 - val_loss: 0.0356 - val_mean_absolute_error: 0.1376\n",
            "Model: \"sequential_3\"\n",
            "_________________________________________________________________\n",
            "Layer (type)                 Output Shape              Param #   \n",
            "=================================================================\n",
            "dense_7 (Dense)              (None, 32)                288       \n",
            "_________________________________________________________________\n",
            "batch_normalization_4 (Batch (None, 32)                128       \n",
            "_________________________________________________________________\n",
            "activation_4 (Activation)    (None, 32)                0         \n",
            "_________________________________________________________________\n",
            "dropout_3 (Dropout)          (None, 32)                0         \n",
            "_________________________________________________________________\n",
            "dense_8 (Dense)              (None, 64)                2112      \n",
            "_________________________________________________________________\n",
            "batch_normalization_5 (Batch (None, 64)                256       \n",
            "_________________________________________________________________\n",
            "activation_5 (Activation)    (None, 64)                0         \n",
            "_________________________________________________________________\n",
            "dropout_4 (Dropout)          (None, 64)                0         \n",
            "_________________________________________________________________\n",
            "dense_9 (Dense)              (None, 1)                 65        \n",
            "_________________________________________________________________\n",
            "batch_normalization_6 (Batch (None, 1)                 4         \n",
            "_________________________________________________________________\n",
            "activation_6 (Activation)    (None, 1)                 0         \n",
            "=================================================================\n",
            "Total params: 2,853\n",
            "Trainable params: 2,659\n",
            "Non-trainable params: 194\n",
            "_________________________________________________________________\n"
          ],
          "name": "stdout"
        }
      ]
    },
    {
      "cell_type": "code",
      "metadata": {
        "id": "6nD1j7zebz02",
        "colab_type": "code",
        "outputId": "032b9275-6fe5-40a4-8ed9-9fa85ec2b36a",
        "colab": {
          "base_uri": "https://localhost:8080/",
          "height": 295
        }
      },
      "source": [
        "import matplotlib.pyplot as plt\n",
        "\n",
        "mae = history.history['mean_absolute_error']\n",
        "val_mae = history.history['val_mean_absolute_error']\n",
        "epochs = range (1, len(mae)+1)\n",
        "\n",
        "plt.plot(epochs, mae, 'bo', label='Training mae')\n",
        "plt.plot(epochs, val_mae, 'b', label='Validation mae')\n",
        "plt.title('Trainig and validation mae + normalized data')\n",
        "plt.xlabel('Epochs')\n",
        "plt.ylabel('mae')\n",
        "plt.legend()\n",
        "\n",
        "plt.show()"
      ],
      "execution_count": 0,
      "outputs": [
        {
          "output_type": "display_data",
          "data": {
            "image/png": "[encoded data removed]",
            "text/plain": [
              "<Figure size 432x288 with 1 Axes>"
            ]
          },
          "metadata": {
            "tags": []
          }
        }
      ]
    },
    {
      "cell_type": "markdown",
      "metadata": {
        "id": "qX5MlYsKiI8M",
        "colab_type": "text"
      },
      "source": [
        "# **MODELO 3**\n"
      ]
    },
    {
      "cell_type": "code",
      "metadata": {
        "id": "dm3bcI9TiD4u",
        "colab_type": "code",
        "outputId": "3f7f17b5-0121-4e99-a80e-d26ddf9dda8f",
        "colab": {
          "base_uri": "https://localhost:8080/",
          "height": 939
        }
      },
      "source": [
        "from keras.optimizers import SGD, rmsprop, Adam, Nadam\n",
        "# instantiate model\n",
        "model = Sequential()\n",
        "\n",
        "# we can think of this chunk as the input layer\n",
        "model.add(Dense(32, input_dim=8, kernel_initializer='uniform'))\n",
        "model.add(BatchNormalization())\n",
        "model.add(Activation('tanh'))\n",
        "model.add(Dropout(0.5))\n",
        "\n",
        "# we can think of this chunk as the hidden layer    \n",
        "model.add(Dense(64, kernel_initializer='uniform'))\n",
        "model.add(BatchNormalization())\n",
        "model.add(Activation('tanh'))\n",
        "model.add(Dropout(0.5))\n",
        "\n",
        "# we can think of this chunk as the output layer\n",
        "model.add(Dense(1, kernel_initializer='uniform'))\n",
        "model.add(BatchNormalization())\n",
        "model.add(Activation('tanh'))\n",
        "\n",
        "# setting up the optimization of our weights \n",
        "optimizer = SGD(lr=0.01, decay=1e-6,momentum=0.7, nesterov=True)\n",
        "model.compile(loss='mse', optimizer= optimizer, metrics=['mae'])\n",
        "\n",
        "# running the fitting\n",
        "history = model.fit(dfnor2[dfnor2.columns[:-1]], dfnor2[dfnor2.columns[-1:]], nb_epoch=10, batch_size=512, validation_split=0.2)\n",
        "model.summary()"
      ],
      "execution_count": 0,
      "outputs": [
        {
          "output_type": "stream",
          "text": [
            "/usr/local/lib/python3.6/dist-packages/ipykernel_launcher.py:27: UserWarning: The `nb_epoch` argument in `fit` has been renamed `epochs`.\n"
          ],
          "name": "stderr"
        },
        {
          "output_type": "stream",
          "text": [
            "Train on 13600 samples, validate on 3400 samples\n",
            "Epoch 1/10\n",
            "13600/13600 [==============================] - 1s 88us/step - loss: 0.3153 - mean_absolute_error: 0.4441 - val_loss: 0.4518 - val_mean_absolute_error: 0.5791\n",
            "Epoch 2/10\n",
            "13600/13600 [==============================] - 0s 10us/step - loss: 0.1013 - mean_absolute_error: 0.2465 - val_loss: 0.0676 - val_mean_absolute_error: 0.2105\n",
            "Epoch 3/10\n",
            "13600/13600 [==============================] - 0s 10us/step - loss: 0.0419 - mean_absolute_error: 0.1644 - val_loss: 0.0342 - val_mean_absolute_error: 0.1475\n",
            "Epoch 4/10\n",
            "13600/13600 [==============================] - 0s 11us/step - loss: 0.0303 - mean_absolute_error: 0.1384 - val_loss: 0.0284 - val_mean_absolute_error: 0.1288\n",
            "Epoch 5/10\n",
            "13600/13600 [==============================] - 0s 11us/step - loss: 0.0282 - mean_absolute_error: 0.1312 - val_loss: 0.0270 - val_mean_absolute_error: 0.1221\n",
            "Epoch 6/10\n",
            "13600/13600 [==============================] - 0s 10us/step - loss: 0.0274 - mean_absolute_error: 0.1273 - val_loss: 0.0266 - val_mean_absolute_error: 0.1198\n",
            "Epoch 7/10\n",
            "13600/13600 [==============================] - 0s 12us/step - loss: 0.0271 - mean_absolute_error: 0.1257 - val_loss: 0.0268 - val_mean_absolute_error: 0.1193\n",
            "Epoch 8/10\n",
            "13600/13600 [==============================] - 0s 12us/step - loss: 0.0268 - mean_absolute_error: 0.1249 - val_loss: 0.0277 - val_mean_absolute_error: 0.1205\n",
            "Epoch 9/10\n",
            "13600/13600 [==============================] - 0s 11us/step - loss: 0.0265 - mean_absolute_error: 0.1236 - val_loss: 0.0269 - val_mean_absolute_error: 0.1188\n",
            "Epoch 10/10\n",
            "13600/13600 [==============================] - 0s 12us/step - loss: 0.0264 - mean_absolute_error: 0.1236 - val_loss: 0.0273 - val_mean_absolute_error: 0.1192\n",
            "Model: \"sequential_4\"\n",
            "_________________________________________________________________\n",
            "Layer (type)                 Output Shape              Param #   \n",
            "=================================================================\n",
            "dense_10 (Dense)             (None, 32)                288       \n",
            "_________________________________________________________________\n",
            "batch_normalization_7 (Batch (None, 32)                128       \n",
            "_________________________________________________________________\n",
            "activation_7 (Activation)    (None, 32)                0         \n",
            "_________________________________________________________________\n",
            "dropout_5 (Dropout)          (None, 32)                0         \n",
            "_________________________________________________________________\n",
            "dense_11 (Dense)             (None, 64)                2112      \n",
            "_________________________________________________________________\n",
            "batch_normalization_8 (Batch (None, 64)                256       \n",
            "_________________________________________________________________\n",
            "activation_8 (Activation)    (None, 64)                0         \n",
            "_________________________________________________________________\n",
            "dropout_6 (Dropout)          (None, 64)                0         \n",
            "_________________________________________________________________\n",
            "dense_12 (Dense)             (None, 1)                 65        \n",
            "_________________________________________________________________\n",
            "batch_normalization_9 (Batch (None, 1)                 4         \n",
            "_________________________________________________________________\n",
            "activation_9 (Activation)    (None, 1)                 0         \n",
            "=================================================================\n",
            "Total params: 2,853\n",
            "Trainable params: 2,659\n",
            "Non-trainable params: 194\n",
            "_________________________________________________________________\n"
          ],
          "name": "stdout"
        }
      ]
    },
    {
      "cell_type": "code",
      "metadata": {
        "id": "jkkt9XukiEDY",
        "colab_type": "code",
        "outputId": "a6d1b001-9f73-4eea-9edf-aeb635477985",
        "colab": {
          "base_uri": "https://localhost:8080/",
          "height": 295
        }
      },
      "source": [
        "import matplotlib.pyplot as plt\n",
        "\n",
        "mae = history.history['mean_absolute_error']\n",
        "val_mae = history.history['val_mean_absolute_error']\n",
        "epochs = range (1, len(mae)+1)\n",
        "\n",
        "plt.plot(epochs, mae, 'bo', label='Training mae')\n",
        "plt.plot(epochs, val_mae, 'b', label='Validation mae')\n",
        "plt.title('Trainig and validation mae + normalized data')\n",
        "plt.xlabel('Epochs')\n",
        "plt.ylabel('mae')\n",
        "plt.legend()\n",
        "\n",
        "plt.show()"
      ],
      "execution_count": 0,
      "outputs": [
        {
          "output_type": "display_data",
          "data": {
            "image/png": "[encoded data removed]",
            "text/plain": [
              "<Figure size 432x288 with 1 Axes>"
            ]
          },
          "metadata": {
            "tags": []
          }
        }
      ]
    },
    {
      "cell_type": "markdown",
      "metadata": {
        "id": "KxdoEgkprjaT",
        "colab_type": "text"
      },
      "source": [
        "# **MODELO 4**"
      ]
    },
    {
      "cell_type": "code",
      "metadata": {
        "id": "huPFLuOgiEZ6",
        "colab_type": "code",
        "outputId": "adc281fc-3720-4568-f359-625d59f45434",
        "colab": {
          "base_uri": "https://localhost:8080/",
          "height": 939
        }
      },
      "source": [
        "from keras.optimizers import SGD, rmsprop, Adam, Nadam\n",
        "from keras.layers.convolutional import Conv2D, MaxPooling2D\n",
        "from keras.models import Sequential\n",
        "from keras.layers import Dense, Activation, Flatten\n",
        "# instantiate model\n",
        "model = Sequential()\n",
        "\n",
        "# we can think of this chunk as the input layer\n",
        "model.add(Dense(32, input_dim=8, kernel_initializer='glorot_uniform'))\n",
        "model.add(BatchNormalization())\n",
        "model.add(Activation('tanh'))\n",
        "model.add(Dropout(0.5))\n",
        "\n",
        "# we can think of this chunk as the hidden layer    \n",
        "model.add(Dense(64, kernel_initializer='glorot_uniform'))\n",
        "model.add(BatchNormalization())\n",
        "model.add(Activation('tanh'))\n",
        "model.add(Dropout(0.5))\n",
        "\n",
        "# we can think of this chunk as the output layer\n",
        "model.add(Dense(1, kernel_initializer='glorot_uniform'))\n",
        "model.add(BatchNormalization())\n",
        "model.add(Activation('tanh'))\n",
        "\n",
        "# setting up the optimization of our weights \n",
        "optimizer = SGD(lr=0.05, decay=1e-6,momentum=0.7, nesterov=False)\n",
        "model.compile(loss='mse', optimizer= optimizer, metrics=['mae'])\n",
        "\n",
        "# running the fitting\n",
        "history = model.fit(dfnor2[dfnor2.columns[:-1]], dfnor2[dfnor2.columns[-1:]], nb_epoch=10, batch_size=512, validation_split=0.2)\n",
        "model.summary()"
      ],
      "execution_count": 0,
      "outputs": [
        {
          "output_type": "stream",
          "text": [
            "/usr/local/lib/python3.6/dist-packages/ipykernel_launcher.py:30: UserWarning: The `nb_epoch` argument in `fit` has been renamed `epochs`.\n"
          ],
          "name": "stderr"
        },
        {
          "output_type": "stream",
          "text": [
            "Train on 13600 samples, validate on 3400 samples\n",
            "Epoch 1/10\n",
            "13600/13600 [==============================] - 2s 128us/step - loss: 0.1940 - mean_absolute_error: 0.3212 - val_loss: 0.0375 - val_mean_absolute_error: 0.1502\n",
            "Epoch 2/10\n",
            "13600/13600 [==============================] - 0s 12us/step - loss: 0.0449 - mean_absolute_error: 0.1645 - val_loss: 0.0324 - val_mean_absolute_error: 0.1392\n",
            "Epoch 3/10\n",
            "13600/13600 [==============================] - 0s 11us/step - loss: 0.0422 - mean_absolute_error: 0.1593 - val_loss: 0.0302 - val_mean_absolute_error: 0.1329\n",
            "Epoch 4/10\n",
            "13600/13600 [==============================] - 0s 11us/step - loss: 0.0397 - mean_absolute_error: 0.1541 - val_loss: 0.0284 - val_mean_absolute_error: 0.1270\n",
            "Epoch 5/10\n",
            "13600/13600 [==============================] - 0s 10us/step - loss: 0.0381 - mean_absolute_error: 0.1514 - val_loss: 0.0274 - val_mean_absolute_error: 0.1214\n",
            "Epoch 6/10\n",
            "13600/13600 [==============================] - 0s 10us/step - loss: 0.0372 - mean_absolute_error: 0.1485 - val_loss: 0.0268 - val_mean_absolute_error: 0.1202\n",
            "Epoch 7/10\n",
            "13600/13600 [==============================] - 0s 11us/step - loss: 0.0359 - mean_absolute_error: 0.1454 - val_loss: 0.0265 - val_mean_absolute_error: 0.1191\n",
            "Epoch 8/10\n",
            "13600/13600 [==============================] - 0s 10us/step - loss: 0.0349 - mean_absolute_error: 0.1438 - val_loss: 0.0266 - val_mean_absolute_error: 0.1175\n",
            "Epoch 9/10\n",
            "13600/13600 [==============================] - 0s 10us/step - loss: 0.0341 - mean_absolute_error: 0.1421 - val_loss: 0.0265 - val_mean_absolute_error: 0.1172\n",
            "Epoch 10/10\n",
            "13600/13600 [==============================] - 0s 10us/step - loss: 0.0341 - mean_absolute_error: 0.1427 - val_loss: 0.0267 - val_mean_absolute_error: 0.1169\n",
            "Model: \"sequential_6\"\n",
            "_________________________________________________________________\n",
            "Layer (type)                 Output Shape              Param #   \n",
            "=================================================================\n",
            "dense_16 (Dense)             (None, 32)                288       \n",
            "_________________________________________________________________\n",
            "batch_normalization_13 (Batc (None, 32)                128       \n",
            "_________________________________________________________________\n",
            "activation_13 (Activation)   (None, 32)                0         \n",
            "_________________________________________________________________\n",
            "dropout_9 (Dropout)          (None, 32)                0         \n",
            "_________________________________________________________________\n",
            "dense_17 (Dense)             (None, 64)                2112      \n",
            "_________________________________________________________________\n",
            "batch_normalization_14 (Batc (None, 64)                256       \n",
            "_________________________________________________________________\n",
            "activation_14 (Activation)   (None, 64)                0         \n",
            "_________________________________________________________________\n",
            "dropout_10 (Dropout)         (None, 64)                0         \n",
            "_________________________________________________________________\n",
            "dense_18 (Dense)             (None, 1)                 65        \n",
            "_________________________________________________________________\n",
            "batch_normalization_15 (Batc (None, 1)                 4         \n",
            "_________________________________________________________________\n",
            "activation_15 (Activation)   (None, 1)                 0         \n",
            "=================================================================\n",
            "Total params: 2,853\n",
            "Trainable params: 2,659\n",
            "Non-trainable params: 194\n",
            "_________________________________________________________________\n"
          ],
          "name": "stdout"
        }
      ]
    },
    {
      "cell_type": "code",
      "metadata": {
        "id": "ql9uHT3jriXW",
        "colab_type": "code",
        "outputId": "98eb69a8-913d-4146-ac50-72c290024cc7",
        "colab": {
          "base_uri": "https://localhost:8080/",
          "height": 295
        }
      },
      "source": [
        "import matplotlib.pyplot as plt\n",
        "\n",
        "mae = history.history['mean_absolute_error']\n",
        "val_mae = history.history['val_mean_absolute_error']\n",
        "epochs = range (1, len(mae)+1)\n",
        "\n",
        "plt.plot(epochs, mae, 'bo', label='Training mae')\n",
        "plt.plot(epochs, val_mae, 'b', label='Validation mae')\n",
        "plt.title('Trainig and validation mae + normalized data')\n",
        "plt.xlabel('Epochs')\n",
        "plt.ylabel('mae')\n",
        "plt.legend()\n",
        "\n",
        "plt.show()"
      ],
      "execution_count": 0,
      "outputs": [
        {
          "output_type": "display_data",
          "data": {
            "image/png": "[encoded data removed]",
            "text/plain": [
              "<Figure size 432x288 with 1 Axes>"
            ]
          },
          "metadata": {
            "tags": []
          }
        }
      ]
    },
    {
      "cell_type": "markdown",
      "metadata": {
        "id": "RtRfu8p8MpJY",
        "colab_type": "text"
      },
      "source": [
        "# **MODELO 5**"
      ]
    },
    {
      "cell_type": "code",
      "metadata": {
        "id": "Fj01gakNrihX",
        "colab_type": "code",
        "outputId": "3b42082c-2589-4012-f7cb-dbb0d550f41a",
        "colab": {
          "base_uri": "https://localhost:8080/",
          "height": 939
        }
      },
      "source": [
        "from keras.optimizers import SGD, rmsprop, Adam, Nadam\n",
        "from keras.layers.convolutional import Conv2D, MaxPooling2D\n",
        "from keras.models import Sequential\n",
        "from keras.layers import Dense, Activation, Flatten\n",
        "# instantiate model\n",
        "model = Sequential()\n",
        "\n",
        "# we can think of this chunk as the input layer\n",
        "model.add(Dense(32, input_dim=8, kernel_initializer='glorot_uniform'))\n",
        "model.add(BatchNormalization())\n",
        "model.add(Activation('tanh'))\n",
        "model.add(Dropout(0.5))\n",
        "\n",
        "# we can think of this chunk as the hidden layer    \n",
        "model.add(Dense(64, kernel_initializer='glorot_uniform'))\n",
        "model.add(BatchNormalization())\n",
        "model.add(Activation('tanh'))\n",
        "model.add(Dropout(0.5))\n",
        "\n",
        "# we can think of this chunk as the output layer\n",
        "model.add(Dense(1, kernel_initializer='glorot_uniform'))\n",
        "model.add(BatchNormalization())\n",
        "model.add(Activation('tanh'))\n",
        "\n",
        "# setting up the optimization of our weights \n",
        "optimizer = Adam(lr=0.01, beta_1=0.9, beta_2=0.999, epsilon=1e-08)\n",
        "model.compile(loss='mse', optimizer= optimizer, metrics=['mae'])\n",
        "\n",
        "# running the fitting\n",
        "history = model.fit(dfnor2[dfnor2.columns[:-1]], dfnor2[dfnor2.columns[-1:]], nb_epoch=10, batch_size=512, validation_split=0.2)\n",
        "model.summary()"
      ],
      "execution_count": 0,
      "outputs": [
        {
          "output_type": "stream",
          "text": [
            "/usr/local/lib/python3.6/dist-packages/ipykernel_launcher.py:30: UserWarning: The `nb_epoch` argument in `fit` has been renamed `epochs`.\n"
          ],
          "name": "stderr"
        },
        {
          "output_type": "stream",
          "text": [
            "Train on 13600 samples, validate on 3400 samples\n",
            "Epoch 1/10\n",
            "13600/13600 [==============================] - 2s 164us/step - loss: 0.3444 - mean_absolute_error: 0.4674 - val_loss: 0.6837 - val_mean_absolute_error: 0.7700\n",
            "Epoch 2/10\n",
            "13600/13600 [==============================] - 0s 11us/step - loss: 0.1287 - mean_absolute_error: 0.2781 - val_loss: 0.0715 - val_mean_absolute_error: 0.2132\n",
            "Epoch 3/10\n",
            "13600/13600 [==============================] - 0s 13us/step - loss: 0.0414 - mean_absolute_error: 0.1638 - val_loss: 0.0297 - val_mean_absolute_error: 0.1344\n",
            "Epoch 4/10\n",
            "13600/13600 [==============================] - 0s 11us/step - loss: 0.0285 - mean_absolute_error: 0.1352 - val_loss: 0.0312 - val_mean_absolute_error: 0.1337\n",
            "Epoch 5/10\n",
            "13600/13600 [==============================] - 0s 12us/step - loss: 0.0250 - mean_absolute_error: 0.1217 - val_loss: 0.0383 - val_mean_absolute_error: 0.1510\n",
            "Epoch 6/10\n",
            "13600/13600 [==============================] - 0s 12us/step - loss: 0.0238 - mean_absolute_error: 0.1170 - val_loss: 0.0363 - val_mean_absolute_error: 0.1451\n",
            "Epoch 7/10\n",
            "13600/13600 [==============================] - 0s 11us/step - loss: 0.0232 - mean_absolute_error: 0.1147 - val_loss: 0.0473 - val_mean_absolute_error: 0.1727\n",
            "Epoch 8/10\n",
            "13600/13600 [==============================] - 0s 12us/step - loss: 0.0232 - mean_absolute_error: 0.1149 - val_loss: 0.0381 - val_mean_absolute_error: 0.1500\n",
            "Epoch 9/10\n",
            "13600/13600 [==============================] - 0s 12us/step - loss: 0.0226 - mean_absolute_error: 0.1129 - val_loss: 0.0399 - val_mean_absolute_error: 0.1548\n",
            "Epoch 10/10\n",
            "13600/13600 [==============================] - 0s 12us/step - loss: 0.0222 - mean_absolute_error: 0.1119 - val_loss: 0.0321 - val_mean_absolute_error: 0.1333\n",
            "Model: \"sequential_8\"\n",
            "_________________________________________________________________\n",
            "Layer (type)                 Output Shape              Param #   \n",
            "=================================================================\n",
            "dense_22 (Dense)             (None, 32)                288       \n",
            "_________________________________________________________________\n",
            "batch_normalization_19 (Batc (None, 32)                128       \n",
            "_________________________________________________________________\n",
            "activation_19 (Activation)   (None, 32)                0         \n",
            "_________________________________________________________________\n",
            "dropout_13 (Dropout)         (None, 32)                0         \n",
            "_________________________________________________________________\n",
            "dense_23 (Dense)             (None, 64)                2112      \n",
            "_________________________________________________________________\n",
            "batch_normalization_20 (Batc (None, 64)                256       \n",
            "_________________________________________________________________\n",
            "activation_20 (Activation)   (None, 64)                0         \n",
            "_________________________________________________________________\n",
            "dropout_14 (Dropout)         (None, 64)                0         \n",
            "_________________________________________________________________\n",
            "dense_24 (Dense)             (None, 1)                 65        \n",
            "_________________________________________________________________\n",
            "batch_normalization_21 (Batc (None, 1)                 4         \n",
            "_________________________________________________________________\n",
            "activation_21 (Activation)   (None, 1)                 0         \n",
            "=================================================================\n",
            "Total params: 2,853\n",
            "Trainable params: 2,659\n",
            "Non-trainable params: 194\n",
            "_________________________________________________________________\n"
          ],
          "name": "stdout"
        }
      ]
    },
    {
      "cell_type": "code",
      "metadata": {
        "id": "dvIMeGs6rizD",
        "colab_type": "code",
        "outputId": "e8d2402f-bf05-45e6-daf0-905923b267d0",
        "colab": {
          "base_uri": "https://localhost:8080/",
          "height": 295
        }
      },
      "source": [
        "\n",
        "\n",
        "mae = history.history['mean_absolute_error']\n",
        "val_mae = history.history['val_mean_absolute_error']\n",
        "epochs = range (1, len(mae)+1)\n",
        "\n",
        "plt.plot(epochs, mae, 'bo', label='Training mae')\n",
        "plt.plot(epochs, val_mae, 'b', label='Validation mae')\n",
        "plt.title('Trainig and validation mae + normalized data')\n",
        "plt.xlabel('Epochs')\n",
        "plt.ylabel('mae')\n",
        "plt.legend()\n",
        "\n",
        "plt.show()"
      ],
      "execution_count": 0,
      "outputs": [
        {
          "output_type": "display_data",
          "data": {
            "image/png": "[encoded data removed]",
            "text/plain": [
              "<Figure size 432x288 with 1 Axes>"
            ]
          },
          "metadata": {
            "tags": []
          }
        }
      ]
    },
    {
      "cell_type": "markdown",
      "metadata": {
        "id": "jwf5y3WvRrpQ",
        "colab_type": "text"
      },
      "source": [
        "**Conclusión**\n",
        "\n",
        "Se hizo un ajuste en el tamaño del Batch a 512 para todos los modelos y también en el número de capas. Haciendo esto, se obtienen los modelos presentados anteriormente, que son lo de mejor ajuste. Adicionalmente, se hicieron ajustes en el optimizador, el Activador, inicializador y la tasa de aprendizaje. \n",
        "\n",
        "SE escoge el últmo de los modelos presentados, el modelo 5, dado su nivel de aprendizaje y que no presenta underfit ni overfit\n"
      ]
    }
  ]
}